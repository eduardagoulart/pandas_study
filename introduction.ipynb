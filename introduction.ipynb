{
  "nbformat": 4,
  "nbformat_minor": 0,
  "metadata": {
    "colab": {
      "name": "introduction.ipynb",
      "provenance": [],
      "collapsed_sections": [],
      "authorship_tag": "ABX9TyODP23gbQTqju+kmKc6eu1D",
      "include_colab_link": true
    },
    "kernelspec": {
      "name": "python3",
      "display_name": "Python 3"
    }
  },
  "cells": [
    {
      "cell_type": "markdown",
      "metadata": {
        "id": "view-in-github",
        "colab_type": "text"
      },
      "source": [
        "<a href=\"https://colab.research.google.com/github/eduardagoulart/pandas_study/blob/master/introduction.ipynb\" target=\"_parent\"><img src=\"https://colab.research.google.com/assets/colab-badge.svg\" alt=\"Open In Colab\"/></a>"
      ]
    },
    {
      "cell_type": "markdown",
      "metadata": {
        "id": "OKendPjTDpe1",
        "colab_type": "text"
      },
      "source": [
        "# First steps with pandas"
      ]
    },
    {
      "cell_type": "code",
      "metadata": {
        "id": "7LS5_djb8wHr",
        "colab_type": "code",
        "colab": {}
      },
      "source": [
        "import pandas as pd"
      ],
      "execution_count": 0,
      "outputs": []
    },
    {
      "cell_type": "code",
      "metadata": {
        "id": "rVrqsywG9ULb",
        "colab_type": "code",
        "colab": {}
      },
      "source": [
        "### read a csv file\n",
        "df = pd.read_csv(\"/content/sample_data/california_housing_train.csv\")"
      ],
      "execution_count": 0,
      "outputs": []
    },
    {
      "cell_type": "code",
      "metadata": {
        "id": "xXhDmd8V-DY8",
        "colab_type": "code",
        "colab": {
          "base_uri": "https://localhost:8080/",
          "height": 34
        },
        "outputId": "6668030d-88db-45a3-bb43-b241c7ac607f"
      },
      "source": [
        "### check type\n",
        "type(df)"
      ],
      "execution_count": 8,
      "outputs": [
        {
          "output_type": "execute_result",
          "data": {
            "text/plain": [
              "pandas.core.frame.DataFrame"
            ]
          },
          "metadata": {
            "tags": []
          },
          "execution_count": 8
        }
      ]
    },
    {
      "cell_type": "code",
      "metadata": {
        "id": "kcfH7Bce-Ete",
        "colab_type": "code",
        "colab": {
          "base_uri": "https://localhost:8080/",
          "height": 34
        },
        "outputId": "63ea8742-ea14-4ed0-c491-bf110839c873"
      },
      "source": [
        "### number of rows vs number of columns\n",
        "df.shape\n",
        "### Doesn't have parameters since it's an attribute of the DataFrame, and not a \n",
        "### function or method"
      ],
      "execution_count": 18,
      "outputs": [
        {
          "output_type": "execute_result",
          "data": {
            "text/plain": [
              "(17000, 9)"
            ]
          },
          "metadata": {
            "tags": []
          },
          "execution_count": 18
        }
      ]
    },
    {
      "cell_type": "code",
      "metadata": {
        "id": "lIWUEaA8-nTD",
        "colab_type": "code",
        "colab": {
          "base_uri": "https://localhost:8080/",
          "height": 85
        },
        "outputId": "ab94e8f7-aeec-4262-89df-815ebf6d12ff"
      },
      "source": [
        "### look at which information our dataframe contains\n",
        "df.columns"
      ],
      "execution_count": 14,
      "outputs": [
        {
          "output_type": "execute_result",
          "data": {
            "text/plain": [
              "Index(['longitude', 'latitude', 'housing_median_age', 'total_rooms',\n",
              "       'total_bedrooms', 'population', 'households', 'median_income',\n",
              "       'median_house_value'],\n",
              "      dtype='object')"
            ]
          },
          "metadata": {
            "tags": []
          },
          "execution_count": 14
        }
      ]
    },
    {
      "cell_type": "markdown",
      "metadata": {
        "id": "7lZ0XjwdD8or",
        "colab_type": "text"
      },
      "source": [
        "## Curiosity about types\n",
        "each Series has to be the same type, whereas each row can contain mixed \n",
        "types"
      ]
    },
    {
      "cell_type": "code",
      "metadata": {
        "id": "3xqUS35lDexQ",
        "colab_type": "code",
        "colab": {
          "base_uri": "https://localhost:8080/",
          "height": 187
        },
        "outputId": "39dba314-a913-4b59-ed95-889e08cb96f7"
      },
      "source": [
        "df.dtypes"
      ],
      "execution_count": 23,
      "outputs": [
        {
          "output_type": "execute_result",
          "data": {
            "text/plain": [
              "longitude             float64\n",
              "latitude              float64\n",
              "housing_median_age    float64\n",
              "total_rooms           float64\n",
              "total_bedrooms        float64\n",
              "population            float64\n",
              "households            float64\n",
              "median_income         float64\n",
              "median_house_value    float64\n",
              "dtype: object"
            ]
          },
          "metadata": {
            "tags": []
          },
          "execution_count": 23
        }
      ]
    },
    {
      "cell_type": "markdown",
      "metadata": {
        "id": "tLd0FxJtDoOV",
        "colab_type": "text"
      },
      "source": [
        "in this example we can see all the columns has the same type, but it's possible that each Serie has different types"
      ]
    },
    {
      "cell_type": "code",
      "metadata": {
        "id": "6FP-MXkkESB7",
        "colab_type": "code",
        "colab": {
          "base_uri": "https://localhost:8080/",
          "height": 255
        },
        "outputId": "8e9c7582-680b-4ce3-b701-544058da948d"
      },
      "source": [
        "# getting more information about our data\n",
        "df.info()"
      ],
      "execution_count": 25,
      "outputs": [
        {
          "output_type": "stream",
          "text": [
            "<class 'pandas.core.frame.DataFrame'>\n",
            "RangeIndex: 17000 entries, 0 to 16999\n",
            "Data columns (total 9 columns):\n",
            "longitude             17000 non-null float64\n",
            "latitude              17000 non-null float64\n",
            "housing_median_age    17000 non-null float64\n",
            "total_rooms           17000 non-null float64\n",
            "total_bedrooms        17000 non-null float64\n",
            "population            17000 non-null float64\n",
            "households            17000 non-null float64\n",
            "median_income         17000 non-null float64\n",
            "median_house_value    17000 non-null float64\n",
            "dtypes: float64(9)\n",
            "memory usage: 1.2 MB\n"
          ],
          "name": "stdout"
        }
      ]
    },
    {
      "cell_type": "markdown",
      "metadata": {
        "id": "VQqSfEm3Fgbz",
        "colab_type": "text"
      },
      "source": [
        "## Pandas Types vs Python Types"
      ]
    },
    {
      "cell_type": "markdown",
      "metadata": {
        "id": "KudXJ5bEFrQB",
        "colab_type": "text"
      },
      "source": [
        "object -> string: it's all text data\n",
        "\n",
        "int64 -> int: whole numbers\n",
        "\n",
        "float64 -> float: decimal numbers\n",
        "\n",
        "datetime64 -> datetime: needs to import in Python, it's not a standard lib"
      ]
    },
    {
      "cell_type": "code",
      "metadata": {
        "id": "-aqB42JMFpsy",
        "colab_type": "code",
        "colab": {}
      },
      "source": [
        ""
      ],
      "execution_count": 0,
      "outputs": []
    }
  ]
}