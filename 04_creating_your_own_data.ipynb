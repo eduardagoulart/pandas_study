{
  "nbformat": 4,
  "nbformat_minor": 0,
  "metadata": {
    "colab": {
      "name": "04_creating_your_own_data.ipynb",
      "provenance": [],
      "authorship_tag": "ABX9TyOURPr/f7UgYjnIBHt+nOrH",
      "include_colab_link": true
    },
    "kernelspec": {
      "name": "python3",
      "display_name": "Python 3"
    }
  },
  "cells": [
    {
      "cell_type": "markdown",
      "metadata": {
        "id": "view-in-github",
        "colab_type": "text"
      },
      "source": [
        "<a href=\"https://colab.research.google.com/github/eduardagoulart/pandas_study/blob/master/04_creating_your_own_data.ipynb\" target=\"_parent\"><img src=\"https://colab.research.google.com/assets/colab-badge.svg\" alt=\"Open In Colab\"/></a>"
      ]
    },
    {
      "cell_type": "code",
      "metadata": {
        "id": "Rrb1oqIKGGUA",
        "colab_type": "code",
        "colab": {}
      },
      "source": [
        "import pandas as pd"
      ],
      "execution_count": 0,
      "outputs": []
    },
    {
      "cell_type": "markdown",
      "metadata": {
        "id": "kwViN1KlGOTH",
        "colab_type": "text"
      },
      "source": [
        "# Creating Series"
      ]
    },
    {
      "cell_type": "markdown",
      "metadata": {
        "id": "X5uxGTgaGjKD",
        "colab_type": "text"
      },
      "source": [
        "\n",
        "*   Pandas is an one-dimentional structure\n",
        "*   Each column from a DataFrame is a Serie\n",
        "*   All the values in one column should have the same *dtype*\n",
        "*   The easiest way to create a Serie is using lists"
      ]
    },
    {
      "cell_type": "code",
      "metadata": {
        "id": "j0leiYyhGM5T",
        "colab_type": "code",
        "colab": {
          "base_uri": "https://localhost:8080/",
          "height": 68
        },
        "outputId": "f02bd0a2-c327-4944-95af-095f99c3f680"
      },
      "source": [
        "my_serie = pd.Series([\"answer_for_everything\",  42])\n",
        "my_serie"
      ],
      "execution_count": 3,
      "outputs": [
        {
          "output_type": "execute_result",
          "data": {
            "text/plain": [
              "0    answer_for_everything\n",
              "1                       42\n",
              "dtype: object"
            ]
          },
          "metadata": {
            "tags": []
          },
          "execution_count": 3
        }
      ]
    },
    {
      "cell_type": "code",
      "metadata": {
        "id": "4eQetLXYH11Z",
        "colab_type": "code",
        "colab": {
          "base_uri": "https://localhost:8080/",
          "height": 34
        },
        "outputId": "40aea4e1-5653-4c7c-f721-87c6566843a9"
      },
      "source": [
        "type(my_serie)"
      ],
      "execution_count": 4,
      "outputs": [
        {
          "output_type": "execute_result",
          "data": {
            "text/plain": [
              "pandas.core.series.Series"
            ]
          },
          "metadata": {
            "tags": []
          },
          "execution_count": 4
        }
      ]
    },
    {
      "cell_type": "code",
      "metadata": {
        "id": "jcwLPUyJH5uI",
        "colab_type": "code",
        "colab": {
          "base_uri": "https://localhost:8080/",
          "height": 34
        },
        "outputId": "7f0464b1-802d-4292-a44d-ca02c752685e"
      },
      "source": [
        "my_serie.iloc[-1]"
      ],
      "execution_count": 5,
      "outputs": [
        {
          "output_type": "execute_result",
          "data": {
            "text/plain": [
              "42"
            ]
          },
          "metadata": {
            "tags": []
          },
          "execution_count": 5
        }
      ]
    },
    {
      "cell_type": "code",
      "metadata": {
        "id": "2YvqxkeUIJOq",
        "colab_type": "code",
        "colab": {
          "base_uri": "https://localhost:8080/",
          "height": 68
        },
        "outputId": "d0162b54-81f6-4191-ab26-fc770be58223"
      },
      "source": [
        "# creating a custom index\n",
        "custom_index = pd.Series([\"mickey\", \"miney\"], \n",
        "                         index=[\"mouse_boy\", \"mouse_fem\"])\n",
        "custom_index"
      ],
      "execution_count": 7,
      "outputs": [
        {
          "output_type": "execute_result",
          "data": {
            "text/plain": [
              "mouse_boy    mickey\n",
              "mouse_fem     miney\n",
              "dtype: object"
            ]
          },
          "metadata": {
            "tags": []
          },
          "execution_count": 7
        }
      ]
    },
    {
      "cell_type": "code",
      "metadata": {
        "id": "KgHhGTM_IbNg",
        "colab_type": "code",
        "colab": {
          "base_uri": "https://localhost:8080/",
          "height": 34
        },
        "outputId": "b3b337f8-ff53-4a0e-aead-827ba6c23f8d"
      },
      "source": [
        "custom_index.loc[\"mouse_boy\"]"
      ],
      "execution_count": 9,
      "outputs": [
        {
          "output_type": "execute_result",
          "data": {
            "text/plain": [
              "'mickey'"
            ]
          },
          "metadata": {
            "tags": []
          },
          "execution_count": 9
        }
      ]
    },
    {
      "cell_type": "code",
      "metadata": {
        "id": "M4xSES7MIgyE",
        "colab_type": "code",
        "colab": {}
      },
      "source": [
        ""
      ],
      "execution_count": 0,
      "outputs": []
    }
  ]
}