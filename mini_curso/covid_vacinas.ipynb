{
 "cells": [
  {
   "cell_type": "code",
   "execution_count": 1,
   "id": "2da317fc",
   "metadata": {},
   "outputs": [],
   "source": [
    "import pandas as pd"
   ]
  },
  {
   "cell_type": "code",
   "execution_count": 2,
   "id": "44b68eb4",
   "metadata": {},
   "outputs": [
    {
     "name": "stderr",
     "output_type": "stream",
     "text": [
      "/Users/eduardagoulart/.pyenv/versions/3.8.0/lib/python3.8/site-packages/IPython/core/interactiveshell.py:3169: DtypeWarning: Columns (0,1,2,3,5,6,7) have mixed types.Specify dtype option on import or set low_memory=False.\n",
      "  has_raised = await self.run_ast_nodes(code_ast.body, cell_name,\n"
     ]
    }
   ],
   "source": [
    "after_april = pd.read_csv(\"./datasets/CSV_Vacinas_1106/CSV_Vacinas.csv\", sep=';')\n",
    "april = pd.read_csv(\"./datasets/CSV_Vacinas_1106/CSV_Vacinas_Abril.csv\", sep=';')\n",
    "trimester = pd.read_csv(\"./datasets/CSV_Vacinas_1106/CSV_Vacinas_1Trimeste.csv\", sep=';', usecols=[\"MUNICIPIO_RESIDENCIA\", \"URS\", \"MICRO\", \"MACRO\", \"CodigoIBGE\", \"Data\", \"Grupo\", \"Dose\", \"Doses Aplicadas\"])"
   ]
  },
  {
   "cell_type": "code",
   "execution_count": 3,
   "id": "1a5720fd",
   "metadata": {},
   "outputs": [
    {
     "data": {
      "text/html": [
       "<div>\n",
       "<style scoped>\n",
       "    .dataframe tbody tr th:only-of-type {\n",
       "        vertical-align: middle;\n",
       "    }\n",
       "\n",
       "    .dataframe tbody tr th {\n",
       "        vertical-align: top;\n",
       "    }\n",
       "\n",
       "    .dataframe thead th {\n",
       "        text-align: right;\n",
       "    }\n",
       "</style>\n",
       "<table border=\"1\" class=\"dataframe\">\n",
       "  <thead>\n",
       "    <tr style=\"text-align: right;\">\n",
       "      <th></th>\n",
       "      <th>MUNICIPIO_RESIDENCIA</th>\n",
       "      <th>URS</th>\n",
       "      <th>MICRO</th>\n",
       "      <th>MACRO</th>\n",
       "      <th>CodigoIBGE</th>\n",
       "      <th>Data</th>\n",
       "      <th>Grupo</th>\n",
       "      <th>Dose</th>\n",
       "      <th>Doses Aplicadas</th>\n",
       "    </tr>\n",
       "  </thead>\n",
       "  <tbody>\n",
       "    <tr>\n",
       "      <th>307777</th>\n",
       "      <td>Santo Ant�nio do Amparo</td>\n",
       "      <td>Divin�polis</td>\n",
       "      <td>Oliveira/Sto Ant. Amparo</td>\n",
       "      <td>OESTE</td>\n",
       "      <td>315990</td>\n",
       "      <td>17/05/2021</td>\n",
       "      <td>FUNCION�RIOS DO SISTEMA DE PRIVA��O DE LIBERDADE</td>\n",
       "      <td>PRIMEIRA DOSE</td>\n",
       "      <td>0.0</td>\n",
       "    </tr>\n",
       "  </tbody>\n",
       "</table>\n",
       "</div>"
      ],
      "text/plain": [
       "           MUNICIPIO_RESIDENCIA          URS                     MICRO  MACRO  \\\n",
       "307777  Santo Ant�nio do Amparo  Divin�polis  Oliveira/Sto Ant. Amparo  OESTE   \n",
       "\n",
       "        CodigoIBGE        Data  \\\n",
       "307777      315990  17/05/2021   \n",
       "\n",
       "                                                   Grupo           Dose  \\\n",
       "307777  FUNCION�RIOS DO SISTEMA DE PRIVA��O DE LIBERDADE  PRIMEIRA DOSE   \n",
       "\n",
       "        Doses Aplicadas  \n",
       "307777              0.0  "
      ]
     },
     "execution_count": 3,
     "metadata": {},
     "output_type": "execute_result"
    }
   ],
   "source": [
    "after_april.sample()"
   ]
  },
  {
   "cell_type": "code",
   "execution_count": 4,
   "id": "1d0e1425",
   "metadata": {},
   "outputs": [
    {
     "data": {
      "text/html": [
       "<div>\n",
       "<style scoped>\n",
       "    .dataframe tbody tr th:only-of-type {\n",
       "        vertical-align: middle;\n",
       "    }\n",
       "\n",
       "    .dataframe tbody tr th {\n",
       "        vertical-align: top;\n",
       "    }\n",
       "\n",
       "    .dataframe thead th {\n",
       "        text-align: right;\n",
       "    }\n",
       "</style>\n",
       "<table border=\"1\" class=\"dataframe\">\n",
       "  <thead>\n",
       "    <tr style=\"text-align: right;\">\n",
       "      <th></th>\n",
       "      <th>MUNICIPIO_RESIDENCIA</th>\n",
       "      <th>URS</th>\n",
       "      <th>MICRO</th>\n",
       "      <th>MACRO</th>\n",
       "      <th>CodigoIBGE</th>\n",
       "      <th>Data</th>\n",
       "      <th>Grupo</th>\n",
       "      <th>Dose</th>\n",
       "      <th>Doses Aplicadas</th>\n",
       "    </tr>\n",
       "  </thead>\n",
       "  <tbody>\n",
       "    <tr>\n",
       "      <th>385391</th>\n",
       "      <td>Santana dos Montes</td>\n",
       "      <td>Barbacena</td>\n",
       "      <td>CONSELHEIRO LAFAIETE</td>\n",
       "      <td>CENTRO SUL</td>\n",
       "      <td>315910</td>\n",
       "      <td>26/04/2021</td>\n",
       "      <td>FUNCION�RIOS DO SISTEMA DE PRIVA��O DE LIBERDADE</td>\n",
       "      <td>SEGUNDA DOSE</td>\n",
       "      <td>0.0</td>\n",
       "    </tr>\n",
       "  </tbody>\n",
       "</table>\n",
       "</div>"
      ],
      "text/plain": [
       "       MUNICIPIO_RESIDENCIA        URS                 MICRO       MACRO  \\\n",
       "385391   Santana dos Montes  Barbacena  CONSELHEIRO LAFAIETE  CENTRO SUL   \n",
       "\n",
       "        CodigoIBGE        Data  \\\n",
       "385391      315910  26/04/2021   \n",
       "\n",
       "                                                   Grupo          Dose  \\\n",
       "385391  FUNCION�RIOS DO SISTEMA DE PRIVA��O DE LIBERDADE  SEGUNDA DOSE   \n",
       "\n",
       "        Doses Aplicadas  \n",
       "385391              0.0  "
      ]
     },
     "execution_count": 4,
     "metadata": {},
     "output_type": "execute_result"
    }
   ],
   "source": [
    "april.sample()"
   ]
  },
  {
   "cell_type": "code",
   "execution_count": 5,
   "id": "c384a688",
   "metadata": {},
   "outputs": [
    {
     "data": {
      "text/html": [
       "<div>\n",
       "<style scoped>\n",
       "    .dataframe tbody tr th:only-of-type {\n",
       "        vertical-align: middle;\n",
       "    }\n",
       "\n",
       "    .dataframe tbody tr th {\n",
       "        vertical-align: top;\n",
       "    }\n",
       "\n",
       "    .dataframe thead th {\n",
       "        text-align: right;\n",
       "    }\n",
       "</style>\n",
       "<table border=\"1\" class=\"dataframe\">\n",
       "  <thead>\n",
       "    <tr style=\"text-align: right;\">\n",
       "      <th></th>\n",
       "      <th>MUNICIPIO_RESIDENCIA</th>\n",
       "      <th>URS</th>\n",
       "      <th>MICRO</th>\n",
       "      <th>MACRO</th>\n",
       "      <th>CodigoIBGE</th>\n",
       "      <th>Data</th>\n",
       "      <th>Grupo</th>\n",
       "      <th>Dose</th>\n",
       "      <th>Doses Aplicadas</th>\n",
       "    </tr>\n",
       "  </thead>\n",
       "  <tbody>\n",
       "    <tr>\n",
       "      <th>19409</th>\n",
       "      <td>Rio Manso</td>\n",
       "      <td>Belo Horizonte</td>\n",
       "      <td>BETIM</td>\n",
       "      <td>CENTRO</td>\n",
       "      <td>315530.0</td>\n",
       "      <td>26/01/2021</td>\n",
       "      <td>PESSOAS DE 90 ANOS OU MAIS</td>\n",
       "      <td>PRIMEIRA DOSE</td>\n",
       "      <td>0.0</td>\n",
       "    </tr>\n",
       "  </tbody>\n",
       "</table>\n",
       "</div>"
      ],
      "text/plain": [
       "      MUNICIPIO_RESIDENCIA             URS  MICRO   MACRO  CodigoIBGE  \\\n",
       "19409            Rio Manso  Belo Horizonte  BETIM  CENTRO    315530.0   \n",
       "\n",
       "             Data                       Grupo           Dose  Doses Aplicadas  \n",
       "19409  26/01/2021  PESSOAS DE 90 ANOS OU MAIS  PRIMEIRA DOSE              0.0  "
      ]
     },
     "execution_count": 5,
     "metadata": {},
     "output_type": "execute_result"
    }
   ],
   "source": [
    "trimester.sample()"
   ]
  },
  {
   "cell_type": "code",
   "execution_count": 6,
   "id": "fa2182e8",
   "metadata": {},
   "outputs": [],
   "source": [
    "df = pd.concat([after_april, april, trimester])"
   ]
  },
  {
   "cell_type": "code",
   "execution_count": 7,
   "id": "f2338225",
   "metadata": {},
   "outputs": [],
   "source": [
    "df.dropna(axis=0, how='all', inplace=True)"
   ]
  },
  {
   "cell_type": "code",
   "execution_count": 8,
   "id": "6156c755",
   "metadata": {},
   "outputs": [
    {
     "data": {
      "text/html": [
       "<div>\n",
       "<style scoped>\n",
       "    .dataframe tbody tr th:only-of-type {\n",
       "        vertical-align: middle;\n",
       "    }\n",
       "\n",
       "    .dataframe tbody tr th {\n",
       "        vertical-align: top;\n",
       "    }\n",
       "\n",
       "    .dataframe thead th {\n",
       "        text-align: right;\n",
       "    }\n",
       "</style>\n",
       "<table border=\"1\" class=\"dataframe\">\n",
       "  <thead>\n",
       "    <tr style=\"text-align: right;\">\n",
       "      <th></th>\n",
       "      <th>MUNICIPIO_RESIDENCIA</th>\n",
       "      <th>URS</th>\n",
       "      <th>MICRO</th>\n",
       "      <th>MACRO</th>\n",
       "      <th>CodigoIBGE</th>\n",
       "      <th>Data</th>\n",
       "      <th>Grupo</th>\n",
       "      <th>Dose</th>\n",
       "      <th>Doses Aplicadas</th>\n",
       "    </tr>\n",
       "  </thead>\n",
       "  <tbody>\n",
       "    <tr>\n",
       "      <th>692603</th>\n",
       "      <td>Uba�</td>\n",
       "      <td>Janu�ria</td>\n",
       "      <td>Bras�lia de Minas/S. Francisco</td>\n",
       "      <td>NORTE</td>\n",
       "      <td>317000.0</td>\n",
       "      <td>01/06/2021</td>\n",
       "      <td>PESSOAS DE 65 A 69 ANOS</td>\n",
       "      <td>SEGUNDA DOSE</td>\n",
       "      <td>0.0</td>\n",
       "    </tr>\n",
       "    <tr>\n",
       "      <th>578643</th>\n",
       "      <td>Goiabeira</td>\n",
       "      <td>Governador Valadares</td>\n",
       "      <td>RESPLENDOR</td>\n",
       "      <td>LESTE</td>\n",
       "      <td>312737.0</td>\n",
       "      <td>27/05/2021</td>\n",
       "      <td>PESSOAS DE 80 A 84 ANOS</td>\n",
       "      <td>PRIMEIRA DOSE</td>\n",
       "      <td>0.0</td>\n",
       "    </tr>\n",
       "    <tr>\n",
       "      <th>435442</th>\n",
       "      <td>Joaquim Fel�cio</td>\n",
       "      <td>Montes Claros</td>\n",
       "      <td>BOCAI�VA</td>\n",
       "      <td>NORTE</td>\n",
       "      <td>313640.0</td>\n",
       "      <td>21/05/2021</td>\n",
       "      <td>PESSOAS DE 80 A 84 ANOS</td>\n",
       "      <td>PRIMEIRA DOSE</td>\n",
       "      <td>0.0</td>\n",
       "    </tr>\n",
       "  </tbody>\n",
       "</table>\n",
       "</div>"
      ],
      "text/plain": [
       "       MUNICIPIO_RESIDENCIA                   URS  \\\n",
       "692603                 Uba�              Janu�ria   \n",
       "578643            Goiabeira  Governador Valadares   \n",
       "435442      Joaquim Fel�cio         Montes Claros   \n",
       "\n",
       "                                 MICRO  MACRO  CodigoIBGE        Data  \\\n",
       "692603  Bras�lia de Minas/S. Francisco  NORTE    317000.0  01/06/2021   \n",
       "578643                      RESPLENDOR  LESTE    312737.0  27/05/2021   \n",
       "435442                        BOCAI�VA  NORTE    313640.0  21/05/2021   \n",
       "\n",
       "                          Grupo           Dose  Doses Aplicadas  \n",
       "692603  PESSOAS DE 65 A 69 ANOS   SEGUNDA DOSE              0.0  \n",
       "578643  PESSOAS DE 80 A 84 ANOS  PRIMEIRA DOSE              0.0  \n",
       "435442  PESSOAS DE 80 A 84 ANOS  PRIMEIRA DOSE              0.0  "
      ]
     },
     "execution_count": 8,
     "metadata": {},
     "output_type": "execute_result"
    }
   ],
   "source": [
    "df.sample(3)"
   ]
  },
  {
   "cell_type": "code",
   "execution_count": 9,
   "id": "58828e73",
   "metadata": {},
   "outputs": [],
   "source": [
    "df[\"MUNICIPIO_RESIDENCIA\"] = df[\"MUNICIPIO_RESIDENCIA\"].str.lower()"
   ]
  },
  {
   "cell_type": "code",
   "execution_count": 10,
   "id": "2e9e239b",
   "metadata": {},
   "outputs": [],
   "source": [
    "sjdr = df.loc[df[\"MUNICIPIO_RESIDENCIA\"].str.contains(\"del rei\")]"
   ]
  },
  {
   "cell_type": "code",
   "execution_count": 11,
   "id": "594a8465",
   "metadata": {},
   "outputs": [
    {
     "data": {
      "text/html": [
       "<div>\n",
       "<style scoped>\n",
       "    .dataframe tbody tr th:only-of-type {\n",
       "        vertical-align: middle;\n",
       "    }\n",
       "\n",
       "    .dataframe tbody tr th {\n",
       "        vertical-align: top;\n",
       "    }\n",
       "\n",
       "    .dataframe thead th {\n",
       "        text-align: right;\n",
       "    }\n",
       "</style>\n",
       "<table border=\"1\" class=\"dataframe\">\n",
       "  <thead>\n",
       "    <tr style=\"text-align: right;\">\n",
       "      <th></th>\n",
       "      <th>MUNICIPIO_RESIDENCIA</th>\n",
       "      <th>URS</th>\n",
       "      <th>MICRO</th>\n",
       "      <th>MACRO</th>\n",
       "      <th>CodigoIBGE</th>\n",
       "      <th>Data</th>\n",
       "      <th>Grupo</th>\n",
       "      <th>Dose</th>\n",
       "      <th>Doses Aplicadas</th>\n",
       "    </tr>\n",
       "  </thead>\n",
       "  <tbody>\n",
       "    <tr>\n",
       "      <th>470732</th>\n",
       "      <td>s�o jo�o del rei</td>\n",
       "      <td>S�o Jo�o Del Rei</td>\n",
       "      <td>S�O JO�O DEL REI</td>\n",
       "      <td>CENTRO SUL</td>\n",
       "      <td>316250.0</td>\n",
       "      <td>15/03/2021</td>\n",
       "      <td>PESSOAS COM DEFICI�NCIA EM RESID�NCIAS INCLUSIVAS</td>\n",
       "      <td>SEGUNDA DOSE</td>\n",
       "      <td>0.0</td>\n",
       "    </tr>\n",
       "  </tbody>\n",
       "</table>\n",
       "</div>"
      ],
      "text/plain": [
       "       MUNICIPIO_RESIDENCIA               URS             MICRO       MACRO  \\\n",
       "470732     s�o jo�o del rei  S�o Jo�o Del Rei  S�O JO�O DEL REI  CENTRO SUL   \n",
       "\n",
       "        CodigoIBGE        Data  \\\n",
       "470732    316250.0  15/03/2021   \n",
       "\n",
       "                                                    Grupo          Dose  \\\n",
       "470732  PESSOAS COM DEFICI�NCIA EM RESID�NCIAS INCLUSIVAS  SEGUNDA DOSE   \n",
       "\n",
       "        Doses Aplicadas  \n",
       "470732              0.0  "
      ]
     },
     "execution_count": 11,
     "metadata": {},
     "output_type": "execute_result"
    }
   ],
   "source": [
    "sjdr.sample()"
   ]
  },
  {
   "cell_type": "code",
   "execution_count": 12,
   "id": "4781543a",
   "metadata": {},
   "outputs": [],
   "source": [
    "sjdr_doses = sjdr.groupby(\"Dose\").agg({\"Doses Aplicadas\": \"sum\"})"
   ]
  },
  {
   "cell_type": "code",
   "execution_count": 13,
   "id": "23452768",
   "metadata": {},
   "outputs": [
    {
     "data": {
      "text/html": [
       "<div>\n",
       "<style scoped>\n",
       "    .dataframe tbody tr th:only-of-type {\n",
       "        vertical-align: middle;\n",
       "    }\n",
       "\n",
       "    .dataframe tbody tr th {\n",
       "        vertical-align: top;\n",
       "    }\n",
       "\n",
       "    .dataframe thead th {\n",
       "        text-align: right;\n",
       "    }\n",
       "</style>\n",
       "<table border=\"1\" class=\"dataframe\">\n",
       "  <thead>\n",
       "    <tr style=\"text-align: right;\">\n",
       "      <th></th>\n",
       "      <th>Doses Aplicadas</th>\n",
       "    </tr>\n",
       "    <tr>\n",
       "      <th>Dose</th>\n",
       "      <th></th>\n",
       "    </tr>\n",
       "  </thead>\n",
       "  <tbody>\n",
       "    <tr>\n",
       "      <th>PRIMEIRA DOSE</th>\n",
       "      <td>27074.0</td>\n",
       "    </tr>\n",
       "    <tr>\n",
       "      <th>SEGUNDA DOSE</th>\n",
       "      <td>12330.0</td>\n",
       "    </tr>\n",
       "  </tbody>\n",
       "</table>\n",
       "</div>"
      ],
      "text/plain": [
       "               Doses Aplicadas\n",
       "Dose                          \n",
       "PRIMEIRA DOSE          27074.0\n",
       "SEGUNDA DOSE           12330.0"
      ]
     },
     "execution_count": 13,
     "metadata": {},
     "output_type": "execute_result"
    }
   ],
   "source": [
    "sjdr_doses"
   ]
  },
  {
   "cell_type": "code",
   "execution_count": 14,
   "id": "ae03e355",
   "metadata": {},
   "outputs": [],
   "source": [
    "sjdr = sjdr.sort_values(\"Data\")"
   ]
  },
  {
   "cell_type": "code",
   "execution_count": 15,
   "id": "04a8834a",
   "metadata": {},
   "outputs": [
    {
     "data": {
      "text/html": [
       "<div>\n",
       "<style scoped>\n",
       "    .dataframe tbody tr th:only-of-type {\n",
       "        vertical-align: middle;\n",
       "    }\n",
       "\n",
       "    .dataframe tbody tr th {\n",
       "        vertical-align: top;\n",
       "    }\n",
       "\n",
       "    .dataframe thead th {\n",
       "        text-align: right;\n",
       "    }\n",
       "</style>\n",
       "<table border=\"1\" class=\"dataframe\">\n",
       "  <thead>\n",
       "    <tr style=\"text-align: right;\">\n",
       "      <th></th>\n",
       "      <th>MUNICIPIO_RESIDENCIA</th>\n",
       "      <th>URS</th>\n",
       "      <th>MICRO</th>\n",
       "      <th>MACRO</th>\n",
       "      <th>CodigoIBGE</th>\n",
       "      <th>Data</th>\n",
       "      <th>Grupo</th>\n",
       "      <th>Dose</th>\n",
       "      <th>Doses Aplicadas</th>\n",
       "    </tr>\n",
       "  </thead>\n",
       "  <tbody>\n",
       "    <tr>\n",
       "      <th>86029</th>\n",
       "      <td>s�o jo�o del rei</td>\n",
       "      <td>S�o Jo�o Del Rei</td>\n",
       "      <td>S�O JO�O DEL REI</td>\n",
       "      <td>CENTRO SUL</td>\n",
       "      <td>316250.0</td>\n",
       "      <td>01/02/2021</td>\n",
       "      <td>IDOSOS EM ILPI</td>\n",
       "      <td>PRIMEIRA DOSE</td>\n",
       "      <td>0.0</td>\n",
       "    </tr>\n",
       "    <tr>\n",
       "      <th>84323</th>\n",
       "      <td>s�o jo�o del rei</td>\n",
       "      <td>S�o Jo�o Del Rei</td>\n",
       "      <td>S�O JO�O DEL REI</td>\n",
       "      <td>CENTRO SUL</td>\n",
       "      <td>316250.0</td>\n",
       "      <td>01/02/2021</td>\n",
       "      <td>IND�GENAS ALDEADOS</td>\n",
       "      <td>PRIMEIRA DOSE</td>\n",
       "      <td>0.0</td>\n",
       "    </tr>\n",
       "    <tr>\n",
       "      <th>85176</th>\n",
       "      <td>s�o jo�o del rei</td>\n",
       "      <td>S�o Jo�o Del Rei</td>\n",
       "      <td>S�O JO�O DEL REI</td>\n",
       "      <td>CENTRO SUL</td>\n",
       "      <td>316250.0</td>\n",
       "      <td>01/02/2021</td>\n",
       "      <td>IND�GENAS ALDEADOS</td>\n",
       "      <td>SEGUNDA DOSE</td>\n",
       "      <td>0.0</td>\n",
       "    </tr>\n",
       "    <tr>\n",
       "      <th>86882</th>\n",
       "      <td>s�o jo�o del rei</td>\n",
       "      <td>S�o Jo�o Del Rei</td>\n",
       "      <td>S�O JO�O DEL REI</td>\n",
       "      <td>CENTRO SUL</td>\n",
       "      <td>316250.0</td>\n",
       "      <td>01/02/2021</td>\n",
       "      <td>IDOSOS EM ILPI</td>\n",
       "      <td>SEGUNDA DOSE</td>\n",
       "      <td>0.0</td>\n",
       "    </tr>\n",
       "    <tr>\n",
       "      <th>87735</th>\n",
       "      <td>s�o jo�o del rei</td>\n",
       "      <td>S�o Jo�o Del Rei</td>\n",
       "      <td>S�O JO�O DEL REI</td>\n",
       "      <td>CENTRO SUL</td>\n",
       "      <td>316250.0</td>\n",
       "      <td>01/02/2021</td>\n",
       "      <td>PESSOAS COM DEFICI�NCIA EM RESID�NCIAS INCLUSIVAS</td>\n",
       "      <td>PRIMEIRA DOSE</td>\n",
       "      <td>0.0</td>\n",
       "    </tr>\n",
       "    <tr>\n",
       "      <th>...</th>\n",
       "      <td>...</td>\n",
       "      <td>...</td>\n",
       "      <td>...</td>\n",
       "      <td>...</td>\n",
       "      <td>...</td>\n",
       "      <td>...</td>\n",
       "      <td>...</td>\n",
       "      <td>...</td>\n",
       "      <td>...</td>\n",
       "    </tr>\n",
       "    <tr>\n",
       "      <th>660951</th>\n",
       "      <td>s�o jo�o del rei</td>\n",
       "      <td>S�o Jo�o Del Rei</td>\n",
       "      <td>S�O JO�O DEL REI</td>\n",
       "      <td>CENTRO SUL</td>\n",
       "      <td>316250.0</td>\n",
       "      <td>31/05/2021</td>\n",
       "      <td>POVOS E COMUNIDADES TRADICIONAIS QUILOMBOLAS</td>\n",
       "      <td>PRIMEIRA DOSE</td>\n",
       "      <td>0.0</td>\n",
       "    </tr>\n",
       "    <tr>\n",
       "      <th>660098</th>\n",
       "      <td>s�o jo�o del rei</td>\n",
       "      <td>S�o Jo�o Del Rei</td>\n",
       "      <td>S�O JO�O DEL REI</td>\n",
       "      <td>CENTRO SUL</td>\n",
       "      <td>316250.0</td>\n",
       "      <td>31/05/2021</td>\n",
       "      <td>POVOS E COMUNIDADES TRADICIONAIS RIBEIRINHAS</td>\n",
       "      <td>SEGUNDA DOSE</td>\n",
       "      <td>0.0</td>\n",
       "    </tr>\n",
       "    <tr>\n",
       "      <th>659245</th>\n",
       "      <td>s�o jo�o del rei</td>\n",
       "      <td>S�o Jo�o Del Rei</td>\n",
       "      <td>S�O JO�O DEL REI</td>\n",
       "      <td>CENTRO SUL</td>\n",
       "      <td>316250.0</td>\n",
       "      <td>31/05/2021</td>\n",
       "      <td>POVOS E COMUNIDADES TRADICIONAIS RIBEIRINHAS</td>\n",
       "      <td>PRIMEIRA DOSE</td>\n",
       "      <td>0.0</td>\n",
       "    </tr>\n",
       "    <tr>\n",
       "      <th>674599</th>\n",
       "      <td>s�o jo�o del rei</td>\n",
       "      <td>S�o Jo�o Del Rei</td>\n",
       "      <td>S�O JO�O DEL REI</td>\n",
       "      <td>CENTRO SUL</td>\n",
       "      <td>316250.0</td>\n",
       "      <td>31/05/2021</td>\n",
       "      <td>PESSOAS COM DEFICI�NCIA PERMANENTE (18 A 59 AN...</td>\n",
       "      <td>PRIMEIRA DOSE</td>\n",
       "      <td>0.0</td>\n",
       "    </tr>\n",
       "    <tr>\n",
       "      <th>675452</th>\n",
       "      <td>s�o jo�o del rei</td>\n",
       "      <td>S�o Jo�o Del Rei</td>\n",
       "      <td>S�O JO�O DEL REI</td>\n",
       "      <td>CENTRO SUL</td>\n",
       "      <td>316250.0</td>\n",
       "      <td>31/05/2021</td>\n",
       "      <td>PESSOAS COM DEFICI�NCIA PERMANENTE (18 A 59 AN...</td>\n",
       "      <td>SEGUNDA DOSE</td>\n",
       "      <td>0.0</td>\n",
       "    </tr>\n",
       "  </tbody>\n",
       "</table>\n",
       "<p>2426 rows × 9 columns</p>\n",
       "</div>"
      ],
      "text/plain": [
       "       MUNICIPIO_RESIDENCIA               URS             MICRO       MACRO  \\\n",
       "86029      s�o jo�o del rei  S�o Jo�o Del Rei  S�O JO�O DEL REI  CENTRO SUL   \n",
       "84323      s�o jo�o del rei  S�o Jo�o Del Rei  S�O JO�O DEL REI  CENTRO SUL   \n",
       "85176      s�o jo�o del rei  S�o Jo�o Del Rei  S�O JO�O DEL REI  CENTRO SUL   \n",
       "86882      s�o jo�o del rei  S�o Jo�o Del Rei  S�O JO�O DEL REI  CENTRO SUL   \n",
       "87735      s�o jo�o del rei  S�o Jo�o Del Rei  S�O JO�O DEL REI  CENTRO SUL   \n",
       "...                     ...               ...               ...         ...   \n",
       "660951     s�o jo�o del rei  S�o Jo�o Del Rei  S�O JO�O DEL REI  CENTRO SUL   \n",
       "660098     s�o jo�o del rei  S�o Jo�o Del Rei  S�O JO�O DEL REI  CENTRO SUL   \n",
       "659245     s�o jo�o del rei  S�o Jo�o Del Rei  S�O JO�O DEL REI  CENTRO SUL   \n",
       "674599     s�o jo�o del rei  S�o Jo�o Del Rei  S�O JO�O DEL REI  CENTRO SUL   \n",
       "675452     s�o jo�o del rei  S�o Jo�o Del Rei  S�O JO�O DEL REI  CENTRO SUL   \n",
       "\n",
       "        CodigoIBGE        Data  \\\n",
       "86029     316250.0  01/02/2021   \n",
       "84323     316250.0  01/02/2021   \n",
       "85176     316250.0  01/02/2021   \n",
       "86882     316250.0  01/02/2021   \n",
       "87735     316250.0  01/02/2021   \n",
       "...            ...         ...   \n",
       "660951    316250.0  31/05/2021   \n",
       "660098    316250.0  31/05/2021   \n",
       "659245    316250.0  31/05/2021   \n",
       "674599    316250.0  31/05/2021   \n",
       "675452    316250.0  31/05/2021   \n",
       "\n",
       "                                                    Grupo           Dose  \\\n",
       "86029                                      IDOSOS EM ILPI  PRIMEIRA DOSE   \n",
       "84323                                  IND�GENAS ALDEADOS  PRIMEIRA DOSE   \n",
       "85176                                  IND�GENAS ALDEADOS   SEGUNDA DOSE   \n",
       "86882                                      IDOSOS EM ILPI   SEGUNDA DOSE   \n",
       "87735   PESSOAS COM DEFICI�NCIA EM RESID�NCIAS INCLUSIVAS  PRIMEIRA DOSE   \n",
       "...                                                   ...            ...   \n",
       "660951       POVOS E COMUNIDADES TRADICIONAIS QUILOMBOLAS  PRIMEIRA DOSE   \n",
       "660098       POVOS E COMUNIDADES TRADICIONAIS RIBEIRINHAS   SEGUNDA DOSE   \n",
       "659245       POVOS E COMUNIDADES TRADICIONAIS RIBEIRINHAS  PRIMEIRA DOSE   \n",
       "674599  PESSOAS COM DEFICI�NCIA PERMANENTE (18 A 59 AN...  PRIMEIRA DOSE   \n",
       "675452  PESSOAS COM DEFICI�NCIA PERMANENTE (18 A 59 AN...   SEGUNDA DOSE   \n",
       "\n",
       "        Doses Aplicadas  \n",
       "86029               0.0  \n",
       "84323               0.0  \n",
       "85176               0.0  \n",
       "86882               0.0  \n",
       "87735               0.0  \n",
       "...                 ...  \n",
       "660951              0.0  \n",
       "660098              0.0  \n",
       "659245              0.0  \n",
       "674599              0.0  \n",
       "675452              0.0  \n",
       "\n",
       "[2426 rows x 9 columns]"
      ]
     },
     "execution_count": 15,
     "metadata": {},
     "output_type": "execute_result"
    }
   ],
   "source": [
    "sjdr"
   ]
  },
  {
   "cell_type": "code",
   "execution_count": 16,
   "id": "04937455",
   "metadata": {},
   "outputs": [
    {
     "ename": "NameError",
     "evalue": "name 'sns' is not defined",
     "output_type": "error",
     "traceback": [
      "\u001b[0;31m---------------------------------------------------------------------------\u001b[0m",
      "\u001b[0;31mNameError\u001b[0m                                 Traceback (most recent call last)",
      "\u001b[0;32m<ipython-input-16-12b670f50c21>\u001b[0m in \u001b[0;36m<module>\u001b[0;34m\u001b[0m\n\u001b[0;32m----> 1\u001b[0;31m \u001b[0max\u001b[0m \u001b[0;34m=\u001b[0m \u001b[0msns\u001b[0m\u001b[0;34m.\u001b[0m\u001b[0mviolinplot\u001b[0m\u001b[0;34m(\u001b[0m\u001b[0mx\u001b[0m\u001b[0;34m=\u001b[0m\u001b[0;34m\"Dose\"\u001b[0m\u001b[0;34m,\u001b[0m \u001b[0my\u001b[0m\u001b[0;34m=\u001b[0m\u001b[0;34m\"Doses Aplicadas\"\u001b[0m\u001b[0;34m,\u001b[0m \u001b[0mdata\u001b[0m\u001b[0;34m=\u001b[0m\u001b[0msjdr\u001b[0m\u001b[0;34m)\u001b[0m\u001b[0;34m\u001b[0m\u001b[0;34m\u001b[0m\u001b[0m\n\u001b[0m",
      "\u001b[0;31mNameError\u001b[0m: name 'sns' is not defined"
     ]
    }
   ],
   "source": [
    "ax = sns.violinplot(x=\"Dose\", y=\"Doses Aplicadas\", data=sjdr)"
   ]
  },
  {
   "cell_type": "code",
   "execution_count": null,
   "id": "407023dd",
   "metadata": {},
   "outputs": [],
   "source": [
    "df_doses = df.groupby([\"MUNICIPIO_RESIDENCIA\", \"Dose\"]).agg({\"Doses Aplicadas\": \"sum\"})"
   ]
  },
  {
   "cell_type": "code",
   "execution_count": null,
   "id": "18903ac4",
   "metadata": {},
   "outputs": [],
   "source": [
    "df_doses"
   ]
  },
  {
   "cell_type": "code",
   "execution_count": null,
   "id": "558f4b24",
   "metadata": {},
   "outputs": [],
   "source": [
    "df_doses_aplicadas = df_doses.reset_index()"
   ]
  },
  {
   "cell_type": "code",
   "execution_count": null,
   "id": "a472556c",
   "metadata": {},
   "outputs": [],
   "source": [
    "doses_aplicadas_sum = df_doses_aplicadas.groupby(\"MUNICIPIO_RESIDENCIA\").agg({\"Doses Aplicadas\": \"sum\"})"
   ]
  },
  {
   "cell_type": "code",
   "execution_count": null,
   "id": "d18fe673",
   "metadata": {},
   "outputs": [],
   "source": [
    "doses_aplicadas_sum"
   ]
  },
  {
   "cell_type": "code",
   "execution_count": null,
   "id": "4eb584bc",
   "metadata": {},
   "outputs": [],
   "source": [
    "doses_aplicadas_sum.sort_values(\"Doses Aplicadas\").tail(5)"
   ]
  },
  {
   "cell_type": "code",
   "execution_count": null,
   "id": "edd6cb7c",
   "metadata": {},
   "outputs": [],
   "source": [
    "doses_aplicadas_sum.sort_values(\"Doses Aplicadas\").head(5)"
   ]
  },
  {
   "cell_type": "code",
   "execution_count": null,
   "id": "efe284ac",
   "metadata": {},
   "outputs": [],
   "source": [
    "melhores_municipios = [\"montes claros\", \"contagem\", \"uberl�ndia\", \"juiz de fora\", \"belo horizonte\"]\n",
    "piores_municipios = [\"serra da saudade\", \"cedro do abaet�\", \"dores�polis\", \"s�o sebasti�o do rio preto\", \"serranos\"]\n",
    "municipios = melhores_municipios + piores_municipios"
   ]
  },
  {
   "cell_type": "code",
   "execution_count": null,
   "id": "bcef7327",
   "metadata": {},
   "outputs": [],
   "source": [
    "municipios\n",
    "municipios.append(\"s�o jo�o del rei\")"
   ]
  },
  {
   "cell_type": "code",
   "execution_count": null,
   "id": "1b4fca06",
   "metadata": {},
   "outputs": [],
   "source": [
    "df_doses_aplicadas = df_doses_aplicadas.loc[df_doses_aplicadas[\"MUNICIPIO_RESIDENCIA\"].isin(municipios)]"
   ]
  },
  {
   "cell_type": "code",
   "execution_count": null,
   "id": "46c7ebc2",
   "metadata": {},
   "outputs": [],
   "source": [
    "import seaborn as sns\n",
    "import matplotlib.pyplot as plt\n",
    "import pandas as pd\n",
    "\n",
    "sns.factorplot(x = 'MUNICIPIO_RESIDENCIA', y='Doses Aplicadas', \n",
    "               hue = 'Dose',data=df_doses_aplicadas, kind='bar', height=5)\n",
    "\n",
    "\n",
    "plt.xticks(rotation=90)\n",
    "plt.show()\n"
   ]
  }
 ],
 "metadata": {
  "kernelspec": {
   "display_name": "Python 3",
   "language": "python",
   "name": "python3"
  },
  "language_info": {
   "codemirror_mode": {
    "name": "ipython",
    "version": 3
   },
   "file_extension": ".py",
   "mimetype": "text/x-python",
   "name": "python",
   "nbconvert_exporter": "python",
   "pygments_lexer": "ipython3",
   "version": "3.8.0"
  }
 },
 "nbformat": 4,
 "nbformat_minor": 5
}
