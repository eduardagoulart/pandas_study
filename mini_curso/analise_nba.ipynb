{
 "cells": [
  {
   "cell_type": "code",
   "execution_count": 1,
   "id": "b175114d",
   "metadata": {},
   "outputs": [],
   "source": [
    "import pandas as pd"
   ]
  },
  {
   "cell_type": "code",
   "execution_count": 2,
   "id": "4eedb0f2",
   "metadata": {},
   "outputs": [],
   "source": [
    "game = pd.read_csv(\"./datasets/nba/games.csv\")\n",
    "game_details = pd.read_csv(\"./datasets/nba/games_details.csv\")\n",
    "players = pd.read_csv(\"./datasets/nba/players.csv\")\n",
    "ranking = pd.read_csv(\"./datasets/nba/ranking.csv\")\n",
    "teams = pd.read_csv(\"./datasets/nba/teams.csv\")"
   ]
  },
  {
   "cell_type": "code",
   "execution_count": 3,
   "id": "8a277942",
   "metadata": {},
   "outputs": [
    {
     "data": {
      "text/html": [
       "<div>\n",
       "<style scoped>\n",
       "    .dataframe tbody tr th:only-of-type {\n",
       "        vertical-align: middle;\n",
       "    }\n",
       "\n",
       "    .dataframe tbody tr th {\n",
       "        vertical-align: top;\n",
       "    }\n",
       "\n",
       "    .dataframe thead th {\n",
       "        text-align: right;\n",
       "    }\n",
       "</style>\n",
       "<table border=\"1\" class=\"dataframe\">\n",
       "  <thead>\n",
       "    <tr style=\"text-align: right;\">\n",
       "      <th></th>\n",
       "      <th>GAME_DATE_EST</th>\n",
       "      <th>GAME_ID</th>\n",
       "      <th>GAME_STATUS_TEXT</th>\n",
       "      <th>HOME_TEAM_ID</th>\n",
       "      <th>VISITOR_TEAM_ID</th>\n",
       "      <th>SEASON</th>\n",
       "      <th>TEAM_ID_home</th>\n",
       "      <th>PTS_home</th>\n",
       "      <th>FG_PCT_home</th>\n",
       "      <th>FT_PCT_home</th>\n",
       "      <th>...</th>\n",
       "      <th>AST_home</th>\n",
       "      <th>REB_home</th>\n",
       "      <th>TEAM_ID_away</th>\n",
       "      <th>PTS_away</th>\n",
       "      <th>FG_PCT_away</th>\n",
       "      <th>FT_PCT_away</th>\n",
       "      <th>FG3_PCT_away</th>\n",
       "      <th>AST_away</th>\n",
       "      <th>REB_away</th>\n",
       "      <th>HOME_TEAM_WINS</th>\n",
       "    </tr>\n",
       "  </thead>\n",
       "  <tbody>\n",
       "    <tr>\n",
       "      <th>6857</th>\n",
       "      <td>2011-01-01</td>\n",
       "      <td>21000485</td>\n",
       "      <td>Final</td>\n",
       "      <td>1610612741</td>\n",
       "      <td>1610612739</td>\n",
       "      <td>2010</td>\n",
       "      <td>1610612741</td>\n",
       "      <td>100.0</td>\n",
       "      <td>0.438</td>\n",
       "      <td>0.781</td>\n",
       "      <td>...</td>\n",
       "      <td>21.0</td>\n",
       "      <td>45.0</td>\n",
       "      <td>1610612739</td>\n",
       "      <td>91.0</td>\n",
       "      <td>0.402</td>\n",
       "      <td>0.840</td>\n",
       "      <td>0.222</td>\n",
       "      <td>19.0</td>\n",
       "      <td>40.0</td>\n",
       "      <td>1</td>\n",
       "    </tr>\n",
       "    <tr>\n",
       "      <th>7188</th>\n",
       "      <td>2010-11-17</td>\n",
       "      <td>21000166</td>\n",
       "      <td>Final</td>\n",
       "      <td>1610612759</td>\n",
       "      <td>1610612741</td>\n",
       "      <td>2010</td>\n",
       "      <td>1610612759</td>\n",
       "      <td>103.0</td>\n",
       "      <td>0.482</td>\n",
       "      <td>0.682</td>\n",
       "      <td>...</td>\n",
       "      <td>24.0</td>\n",
       "      <td>50.0</td>\n",
       "      <td>1610612741</td>\n",
       "      <td>94.0</td>\n",
       "      <td>0.424</td>\n",
       "      <td>0.714</td>\n",
       "      <td>0.353</td>\n",
       "      <td>17.0</td>\n",
       "      <td>42.0</td>\n",
       "      <td>1</td>\n",
       "    </tr>\n",
       "    <tr>\n",
       "      <th>15312</th>\n",
       "      <td>2005-01-20</td>\n",
       "      <td>20400571</td>\n",
       "      <td>Final</td>\n",
       "      <td>1610612753</td>\n",
       "      <td>1610612745</td>\n",
       "      <td>2004</td>\n",
       "      <td>1610612753</td>\n",
       "      <td>99.0</td>\n",
       "      <td>0.486</td>\n",
       "      <td>0.771</td>\n",
       "      <td>...</td>\n",
       "      <td>18.0</td>\n",
       "      <td>37.0</td>\n",
       "      <td>1610612745</td>\n",
       "      <td>108.0</td>\n",
       "      <td>0.420</td>\n",
       "      <td>0.848</td>\n",
       "      <td>0.316</td>\n",
       "      <td>17.0</td>\n",
       "      <td>45.0</td>\n",
       "      <td>0</td>\n",
       "    </tr>\n",
       "  </tbody>\n",
       "</table>\n",
       "<p>3 rows × 21 columns</p>\n",
       "</div>"
      ],
      "text/plain": [
       "      GAME_DATE_EST   GAME_ID GAME_STATUS_TEXT  HOME_TEAM_ID  VISITOR_TEAM_ID  \\\n",
       "6857     2011-01-01  21000485            Final    1610612741       1610612739   \n",
       "7188     2010-11-17  21000166            Final    1610612759       1610612741   \n",
       "15312    2005-01-20  20400571            Final    1610612753       1610612745   \n",
       "\n",
       "       SEASON  TEAM_ID_home  PTS_home  FG_PCT_home  FT_PCT_home  ...  \\\n",
       "6857     2010    1610612741     100.0        0.438        0.781  ...   \n",
       "7188     2010    1610612759     103.0        0.482        0.682  ...   \n",
       "15312    2004    1610612753      99.0        0.486        0.771  ...   \n",
       "\n",
       "       AST_home  REB_home  TEAM_ID_away  PTS_away  FG_PCT_away  FT_PCT_away  \\\n",
       "6857       21.0      45.0    1610612739      91.0        0.402        0.840   \n",
       "7188       24.0      50.0    1610612741      94.0        0.424        0.714   \n",
       "15312      18.0      37.0    1610612745     108.0        0.420        0.848   \n",
       "\n",
       "       FG3_PCT_away  AST_away  REB_away  HOME_TEAM_WINS  \n",
       "6857          0.222      19.0      40.0               1  \n",
       "7188          0.353      17.0      42.0               1  \n",
       "15312         0.316      17.0      45.0               0  \n",
       "\n",
       "[3 rows x 21 columns]"
      ]
     },
     "execution_count": 3,
     "metadata": {},
     "output_type": "execute_result"
    }
   ],
   "source": [
    "game.sample(3)"
   ]
  },
  {
   "cell_type": "code",
   "execution_count": 4,
   "id": "efca9e95",
   "metadata": {},
   "outputs": [
    {
     "data": {
      "text/html": [
       "<div>\n",
       "<style scoped>\n",
       "    .dataframe tbody tr th:only-of-type {\n",
       "        vertical-align: middle;\n",
       "    }\n",
       "\n",
       "    .dataframe tbody tr th {\n",
       "        vertical-align: top;\n",
       "    }\n",
       "\n",
       "    .dataframe thead th {\n",
       "        text-align: right;\n",
       "    }\n",
       "</style>\n",
       "<table border=\"1\" class=\"dataframe\">\n",
       "  <thead>\n",
       "    <tr style=\"text-align: right;\">\n",
       "      <th></th>\n",
       "      <th>GAME_ID</th>\n",
       "      <th>TEAM_ID</th>\n",
       "      <th>TEAM_ABBREVIATION</th>\n",
       "      <th>TEAM_CITY</th>\n",
       "      <th>PLAYER_ID</th>\n",
       "      <th>PLAYER_NAME</th>\n",
       "      <th>START_POSITION</th>\n",
       "      <th>COMMENT</th>\n",
       "      <th>MIN</th>\n",
       "      <th>FGM</th>\n",
       "      <th>...</th>\n",
       "      <th>OREB</th>\n",
       "      <th>DREB</th>\n",
       "      <th>REB</th>\n",
       "      <th>AST</th>\n",
       "      <th>STL</th>\n",
       "      <th>BLK</th>\n",
       "      <th>TO</th>\n",
       "      <th>PF</th>\n",
       "      <th>PTS</th>\n",
       "      <th>PLUS_MINUS</th>\n",
       "    </tr>\n",
       "  </thead>\n",
       "  <tbody>\n",
       "    <tr>\n",
       "      <th>525476</th>\n",
       "      <td>21400542</td>\n",
       "      <td>1610612760</td>\n",
       "      <td>OKC</td>\n",
       "      <td>Oklahoma City</td>\n",
       "      <td>201566</td>\n",
       "      <td>Russell Westbrook</td>\n",
       "      <td>G</td>\n",
       "      <td>NaN</td>\n",
       "      <td>37:30</td>\n",
       "      <td>9.0</td>\n",
       "      <td>...</td>\n",
       "      <td>1.0</td>\n",
       "      <td>3.0</td>\n",
       "      <td>4.0</td>\n",
       "      <td>12.0</td>\n",
       "      <td>3.0</td>\n",
       "      <td>0.0</td>\n",
       "      <td>3.0</td>\n",
       "      <td>3.0</td>\n",
       "      <td>25.0</td>\n",
       "      <td>22.0</td>\n",
       "    </tr>\n",
       "    <tr>\n",
       "      <th>89380</th>\n",
       "      <td>40700114</td>\n",
       "      <td>1610612765</td>\n",
       "      <td>DET</td>\n",
       "      <td>Detroit</td>\n",
       "      <td>1497</td>\n",
       "      <td>Chauncey Billups</td>\n",
       "      <td>G</td>\n",
       "      <td>NaN</td>\n",
       "      <td>40:42</td>\n",
       "      <td>4.0</td>\n",
       "      <td>...</td>\n",
       "      <td>1.0</td>\n",
       "      <td>5.0</td>\n",
       "      <td>6.0</td>\n",
       "      <td>7.0</td>\n",
       "      <td>2.0</td>\n",
       "      <td>0.0</td>\n",
       "      <td>3.0</td>\n",
       "      <td>2.0</td>\n",
       "      <td>18.0</td>\n",
       "      <td>4.0</td>\n",
       "    </tr>\n",
       "    <tr>\n",
       "      <th>423479</th>\n",
       "      <td>21700218</td>\n",
       "      <td>1610612764</td>\n",
       "      <td>WAS</td>\n",
       "      <td>Washington</td>\n",
       "      <td>202693</td>\n",
       "      <td>Markieff Morris</td>\n",
       "      <td>F</td>\n",
       "      <td>NaN</td>\n",
       "      <td>23:52</td>\n",
       "      <td>3.0</td>\n",
       "      <td>...</td>\n",
       "      <td>0.0</td>\n",
       "      <td>5.0</td>\n",
       "      <td>5.0</td>\n",
       "      <td>4.0</td>\n",
       "      <td>3.0</td>\n",
       "      <td>1.0</td>\n",
       "      <td>2.0</td>\n",
       "      <td>1.0</td>\n",
       "      <td>7.0</td>\n",
       "      <td>-5.0</td>\n",
       "    </tr>\n",
       "  </tbody>\n",
       "</table>\n",
       "<p>3 rows × 28 columns</p>\n",
       "</div>"
      ],
      "text/plain": [
       "         GAME_ID     TEAM_ID TEAM_ABBREVIATION      TEAM_CITY  PLAYER_ID  \\\n",
       "525476  21400542  1610612760               OKC  Oklahoma City     201566   \n",
       "89380   40700114  1610612765               DET        Detroit       1497   \n",
       "423479  21700218  1610612764               WAS     Washington     202693   \n",
       "\n",
       "              PLAYER_NAME START_POSITION COMMENT    MIN  FGM  ...  OREB  DREB  \\\n",
       "525476  Russell Westbrook              G     NaN  37:30  9.0  ...   1.0   3.0   \n",
       "89380    Chauncey Billups              G     NaN  40:42  4.0  ...   1.0   5.0   \n",
       "423479    Markieff Morris              F     NaN  23:52  3.0  ...   0.0   5.0   \n",
       "\n",
       "        REB   AST  STL  BLK   TO   PF   PTS  PLUS_MINUS  \n",
       "525476  4.0  12.0  3.0  0.0  3.0  3.0  25.0        22.0  \n",
       "89380   6.0   7.0  2.0  0.0  3.0  2.0  18.0         4.0  \n",
       "423479  5.0   4.0  3.0  1.0  2.0  1.0   7.0        -5.0  \n",
       "\n",
       "[3 rows x 28 columns]"
      ]
     },
     "execution_count": 4,
     "metadata": {},
     "output_type": "execute_result"
    }
   ],
   "source": [
    "game_details.sample(3)"
   ]
  },
  {
   "cell_type": "code",
   "execution_count": 5,
   "id": "6e91f498",
   "metadata": {},
   "outputs": [
    {
     "data": {
      "text/html": [
       "<div>\n",
       "<style scoped>\n",
       "    .dataframe tbody tr th:only-of-type {\n",
       "        vertical-align: middle;\n",
       "    }\n",
       "\n",
       "    .dataframe tbody tr th {\n",
       "        vertical-align: top;\n",
       "    }\n",
       "\n",
       "    .dataframe thead th {\n",
       "        text-align: right;\n",
       "    }\n",
       "</style>\n",
       "<table border=\"1\" class=\"dataframe\">\n",
       "  <thead>\n",
       "    <tr style=\"text-align: right;\">\n",
       "      <th></th>\n",
       "      <th>PLAYER_NAME</th>\n",
       "      <th>TEAM_ID</th>\n",
       "      <th>PLAYER_ID</th>\n",
       "      <th>SEASON</th>\n",
       "    </tr>\n",
       "  </thead>\n",
       "  <tbody>\n",
       "    <tr>\n",
       "      <th>833</th>\n",
       "      <td>Darren Collison</td>\n",
       "      <td>1610612754</td>\n",
       "      <td>201954</td>\n",
       "      <td>2018</td>\n",
       "    </tr>\n",
       "    <tr>\n",
       "      <th>4712</th>\n",
       "      <td>DeSagana Diop</td>\n",
       "      <td>1610612739</td>\n",
       "      <td>2205</td>\n",
       "      <td>2013</td>\n",
       "    </tr>\n",
       "    <tr>\n",
       "      <th>5835</th>\n",
       "      <td>Earl Boykins</td>\n",
       "      <td>1610612745</td>\n",
       "      <td>1863</td>\n",
       "      <td>2011</td>\n",
       "    </tr>\n",
       "  </tbody>\n",
       "</table>\n",
       "</div>"
      ],
      "text/plain": [
       "          PLAYER_NAME     TEAM_ID  PLAYER_ID  SEASON\n",
       "833   Darren Collison  1610612754     201954    2018\n",
       "4712    DeSagana Diop  1610612739       2205    2013\n",
       "5835     Earl Boykins  1610612745       1863    2011"
      ]
     },
     "execution_count": 5,
     "metadata": {},
     "output_type": "execute_result"
    }
   ],
   "source": [
    "players.sample(3)"
   ]
  },
  {
   "cell_type": "code",
   "execution_count": 26,
   "id": "b70d47eb",
   "metadata": {},
   "outputs": [
    {
     "data": {
      "text/html": [
       "<div>\n",
       "<style scoped>\n",
       "    .dataframe tbody tr th:only-of-type {\n",
       "        vertical-align: middle;\n",
       "    }\n",
       "\n",
       "    .dataframe tbody tr th {\n",
       "        vertical-align: top;\n",
       "    }\n",
       "\n",
       "    .dataframe thead th {\n",
       "        text-align: right;\n",
       "    }\n",
       "</style>\n",
       "<table border=\"1\" class=\"dataframe\">\n",
       "  <thead>\n",
       "    <tr style=\"text-align: right;\">\n",
       "      <th></th>\n",
       "      <th>TEAM_ID</th>\n",
       "      <th>LEAGUE_ID</th>\n",
       "      <th>SEASON_ID</th>\n",
       "      <th>STANDINGSDATE</th>\n",
       "      <th>CONFERENCE</th>\n",
       "      <th>TEAM</th>\n",
       "      <th>G</th>\n",
       "      <th>W</th>\n",
       "      <th>L</th>\n",
       "      <th>W_PCT</th>\n",
       "      <th>HOME_RECORD</th>\n",
       "      <th>ROAD_RECORD</th>\n",
       "      <th>RETURNTOPLAY</th>\n",
       "    </tr>\n",
       "  </thead>\n",
       "  <tbody>\n",
       "    <tr>\n",
       "      <th>81807</th>\n",
       "      <td>1610612743</td>\n",
       "      <td>0</td>\n",
       "      <td>22018</td>\n",
       "      <td>2018-10-21</td>\n",
       "      <td>West</td>\n",
       "      <td>Denver</td>\n",
       "      <td>3</td>\n",
       "      <td>3</td>\n",
       "      <td>0</td>\n",
       "      <td>1.000</td>\n",
       "      <td>2-0</td>\n",
       "      <td>1-0</td>\n",
       "      <td>NaN</td>\n",
       "    </tr>\n",
       "    <tr>\n",
       "      <th>113399</th>\n",
       "      <td>1610612754</td>\n",
       "      <td>0</td>\n",
       "      <td>22012</td>\n",
       "      <td>2013-01-14</td>\n",
       "      <td>East</td>\n",
       "      <td>Indiana</td>\n",
       "      <td>38</td>\n",
       "      <td>23</td>\n",
       "      <td>15</td>\n",
       "      <td>0.605</td>\n",
       "      <td>15-3</td>\n",
       "      <td>8-12</td>\n",
       "      <td>NaN</td>\n",
       "    </tr>\n",
       "    <tr>\n",
       "      <th>47827</th>\n",
       "      <td>1610612742</td>\n",
       "      <td>0</td>\n",
       "      <td>22008</td>\n",
       "      <td>2008-11-26</td>\n",
       "      <td>West</td>\n",
       "      <td>Dallas</td>\n",
       "      <td>14</td>\n",
       "      <td>7</td>\n",
       "      <td>7</td>\n",
       "      <td>0.500</td>\n",
       "      <td>2-4</td>\n",
       "      <td>5-3</td>\n",
       "      <td>NaN</td>\n",
       "    </tr>\n",
       "  </tbody>\n",
       "</table>\n",
       "</div>"
      ],
      "text/plain": [
       "           TEAM_ID  LEAGUE_ID  SEASON_ID STANDINGSDATE CONFERENCE     TEAM  \\\n",
       "81807   1610612743          0      22018    2018-10-21       West   Denver   \n",
       "113399  1610612754          0      22012    2013-01-14       East  Indiana   \n",
       "47827   1610612742          0      22008    2008-11-26       West   Dallas   \n",
       "\n",
       "         G   W   L  W_PCT HOME_RECORD ROAD_RECORD  RETURNTOPLAY  \n",
       "81807    3   3   0  1.000         2-0         1-0           NaN  \n",
       "113399  38  23  15  0.605        15-3        8-12           NaN  \n",
       "47827   14   7   7  0.500         2-4         5-3           NaN  "
      ]
     },
     "execution_count": 26,
     "metadata": {},
     "output_type": "execute_result"
    }
   ],
   "source": [
    "ranking.sample(3)"
   ]
  },
  {
   "cell_type": "code",
   "execution_count": 7,
   "id": "e8a72f2b",
   "metadata": {},
   "outputs": [
    {
     "data": {
      "text/html": [
       "<div>\n",
       "<style scoped>\n",
       "    .dataframe tbody tr th:only-of-type {\n",
       "        vertical-align: middle;\n",
       "    }\n",
       "\n",
       "    .dataframe tbody tr th {\n",
       "        vertical-align: top;\n",
       "    }\n",
       "\n",
       "    .dataframe thead th {\n",
       "        text-align: right;\n",
       "    }\n",
       "</style>\n",
       "<table border=\"1\" class=\"dataframe\">\n",
       "  <thead>\n",
       "    <tr style=\"text-align: right;\">\n",
       "      <th></th>\n",
       "      <th>LEAGUE_ID</th>\n",
       "      <th>TEAM_ID</th>\n",
       "      <th>MIN_YEAR</th>\n",
       "      <th>MAX_YEAR</th>\n",
       "      <th>ABBREVIATION</th>\n",
       "      <th>NICKNAME</th>\n",
       "      <th>YEARFOUNDED</th>\n",
       "      <th>CITY</th>\n",
       "      <th>ARENA</th>\n",
       "      <th>ARENACAPACITY</th>\n",
       "      <th>OWNER</th>\n",
       "      <th>GENERALMANAGER</th>\n",
       "      <th>HEADCOACH</th>\n",
       "      <th>DLEAGUEAFFILIATION</th>\n",
       "    </tr>\n",
       "  </thead>\n",
       "  <tbody>\n",
       "    <tr>\n",
       "      <th>3</th>\n",
       "      <td>0</td>\n",
       "      <td>1610612741</td>\n",
       "      <td>1966</td>\n",
       "      <td>2019</td>\n",
       "      <td>CHI</td>\n",
       "      <td>Bulls</td>\n",
       "      <td>1966</td>\n",
       "      <td>Chicago</td>\n",
       "      <td>United Center</td>\n",
       "      <td>21711.0</td>\n",
       "      <td>Jerry Reinsdorf</td>\n",
       "      <td>Gar Forman</td>\n",
       "      <td>Jim Boylen</td>\n",
       "      <td>Windy City Bulls</td>\n",
       "    </tr>\n",
       "    <tr>\n",
       "      <th>11</th>\n",
       "      <td>0</td>\n",
       "      <td>1610612750</td>\n",
       "      <td>1989</td>\n",
       "      <td>2019</td>\n",
       "      <td>MIN</td>\n",
       "      <td>Timberwolves</td>\n",
       "      <td>1989</td>\n",
       "      <td>Minnesota</td>\n",
       "      <td>Target Center</td>\n",
       "      <td>19356.0</td>\n",
       "      <td>Glen Taylor</td>\n",
       "      <td>Scott Layden</td>\n",
       "      <td>Ryan Saunders</td>\n",
       "      <td>Iowa Wolves</td>\n",
       "    </tr>\n",
       "    <tr>\n",
       "      <th>24</th>\n",
       "      <td>0</td>\n",
       "      <td>1610612763</td>\n",
       "      <td>1995</td>\n",
       "      <td>2019</td>\n",
       "      <td>MEM</td>\n",
       "      <td>Grizzlies</td>\n",
       "      <td>1995</td>\n",
       "      <td>Memphis</td>\n",
       "      <td>FedExForum</td>\n",
       "      <td>18119.0</td>\n",
       "      <td>Robert Pera</td>\n",
       "      <td>Zach Kleiman</td>\n",
       "      <td>Taylor Jenkins</td>\n",
       "      <td>Memphis Hustle</td>\n",
       "    </tr>\n",
       "  </tbody>\n",
       "</table>\n",
       "</div>"
      ],
      "text/plain": [
       "    LEAGUE_ID     TEAM_ID  MIN_YEAR  MAX_YEAR ABBREVIATION      NICKNAME  \\\n",
       "3           0  1610612741      1966      2019          CHI         Bulls   \n",
       "11          0  1610612750      1989      2019          MIN  Timberwolves   \n",
       "24          0  1610612763      1995      2019          MEM     Grizzlies   \n",
       "\n",
       "    YEARFOUNDED       CITY          ARENA  ARENACAPACITY            OWNER  \\\n",
       "3          1966    Chicago  United Center        21711.0  Jerry Reinsdorf   \n",
       "11         1989  Minnesota  Target Center        19356.0      Glen Taylor   \n",
       "24         1995    Memphis     FedExForum        18119.0      Robert Pera   \n",
       "\n",
       "   GENERALMANAGER       HEADCOACH DLEAGUEAFFILIATION  \n",
       "3      Gar Forman      Jim Boylen   Windy City Bulls  \n",
       "11   Scott Layden   Ryan Saunders        Iowa Wolves  \n",
       "24   Zach Kleiman  Taylor Jenkins     Memphis Hustle  "
      ]
     },
     "execution_count": 7,
     "metadata": {},
     "output_type": "execute_result"
    }
   ],
   "source": [
    "teams.sample(3)"
   ]
  },
  {
   "cell_type": "markdown",
   "id": "d7bcc1d4",
   "metadata": {},
   "source": [
    "### PROBLEMA\n",
    "\n",
    "Queremos agora saber qual time marcou o mais pontos num jogo na season 2017"
   ]
  },
  {
   "cell_type": "code",
   "execution_count": 8,
   "id": "02eece44",
   "metadata": {},
   "outputs": [
    {
     "data": {
      "text/plain": [
       "Index(['GAME_DATE_EST', 'GAME_ID', 'GAME_STATUS_TEXT', 'HOME_TEAM_ID',\n",
       "       'VISITOR_TEAM_ID', 'SEASON', 'TEAM_ID_home', 'PTS_home', 'FG_PCT_home',\n",
       "       'FT_PCT_home', 'FG3_PCT_home', 'AST_home', 'REB_home', 'TEAM_ID_away',\n",
       "       'PTS_away', 'FG_PCT_away', 'FT_PCT_away', 'FG3_PCT_away', 'AST_away',\n",
       "       'REB_away', 'HOME_TEAM_WINS'],\n",
       "      dtype='object')"
      ]
     },
     "execution_count": 8,
     "metadata": {},
     "output_type": "execute_result"
    }
   ],
   "source": [
    "game.columns"
   ]
  },
  {
   "cell_type": "code",
   "execution_count": 9,
   "id": "ff999999",
   "metadata": {},
   "outputs": [
    {
     "data": {
      "text/plain": [
       "Index(['GAME_ID', 'TEAM_ID', 'TEAM_ABBREVIATION', 'TEAM_CITY', 'PLAYER_ID',\n",
       "       'PLAYER_NAME', 'START_POSITION', 'COMMENT', 'MIN', 'FGM', 'FGA',\n",
       "       'FG_PCT', 'FG3M', 'FG3A', 'FG3_PCT', 'FTM', 'FTA', 'FT_PCT', 'OREB',\n",
       "       'DREB', 'REB', 'AST', 'STL', 'BLK', 'TO', 'PF', 'PTS', 'PLUS_MINUS'],\n",
       "      dtype='object')"
      ]
     },
     "execution_count": 9,
     "metadata": {},
     "output_type": "execute_result"
    }
   ],
   "source": [
    "game_details.columns"
   ]
  },
  {
   "cell_type": "code",
   "execution_count": 10,
   "id": "8c668d84",
   "metadata": {},
   "outputs": [],
   "source": [
    "game_per_season = game[[\"GAME_ID\", \"HOME_TEAM_ID\", \"VISITOR_TEAM_ID\", \"SEASON\", \"PTS_home\", \"PTS_away\"]]"
   ]
  },
  {
   "cell_type": "code",
   "execution_count": 11,
   "id": "7ac073fc",
   "metadata": {},
   "outputs": [
    {
     "data": {
      "text/html": [
       "<div>\n",
       "<style scoped>\n",
       "    .dataframe tbody tr th:only-of-type {\n",
       "        vertical-align: middle;\n",
       "    }\n",
       "\n",
       "    .dataframe tbody tr th {\n",
       "        vertical-align: top;\n",
       "    }\n",
       "\n",
       "    .dataframe thead th {\n",
       "        text-align: right;\n",
       "    }\n",
       "</style>\n",
       "<table border=\"1\" class=\"dataframe\">\n",
       "  <thead>\n",
       "    <tr style=\"text-align: right;\">\n",
       "      <th></th>\n",
       "      <th>GAME_ID</th>\n",
       "      <th>HOME_TEAM_ID</th>\n",
       "      <th>VISITOR_TEAM_ID</th>\n",
       "      <th>SEASON</th>\n",
       "      <th>PTS_home</th>\n",
       "      <th>PTS_away</th>\n",
       "    </tr>\n",
       "  </thead>\n",
       "  <tbody>\n",
       "    <tr>\n",
       "      <th>223</th>\n",
       "      <td>22000895</td>\n",
       "      <td>1610612759</td>\n",
       "      <td>1610612765</td>\n",
       "      <td>2020</td>\n",
       "      <td>106.0</td>\n",
       "      <td>91.0</td>\n",
       "    </tr>\n",
       "    <tr>\n",
       "      <th>21326</th>\n",
       "      <td>21600424</td>\n",
       "      <td>1610612763</td>\n",
       "      <td>1610612738</td>\n",
       "      <td>2016</td>\n",
       "      <td>109.0</td>\n",
       "      <td>112.0</td>\n",
       "    </tr>\n",
       "    <tr>\n",
       "      <th>3619</th>\n",
       "      <td>21201208</td>\n",
       "      <td>1610612742</td>\n",
       "      <td>1610612763</td>\n",
       "      <td>2012</td>\n",
       "      <td>97.0</td>\n",
       "      <td>103.0</td>\n",
       "    </tr>\n",
       "  </tbody>\n",
       "</table>\n",
       "</div>"
      ],
      "text/plain": [
       "        GAME_ID  HOME_TEAM_ID  VISITOR_TEAM_ID  SEASON  PTS_home  PTS_away\n",
       "223    22000895    1610612759       1610612765    2020     106.0      91.0\n",
       "21326  21600424    1610612763       1610612738    2016     109.0     112.0\n",
       "3619   21201208    1610612742       1610612763    2012      97.0     103.0"
      ]
     },
     "execution_count": 11,
     "metadata": {},
     "output_type": "execute_result"
    }
   ],
   "source": [
    "game_per_season.sample(3)"
   ]
  },
  {
   "cell_type": "code",
   "execution_count": 12,
   "id": "8dac6bd0",
   "metadata": {},
   "outputs": [],
   "source": [
    "game_season_2017 = game_per_season.loc[game_per_season[\"SEASON\"] == 2017]"
   ]
  },
  {
   "cell_type": "code",
   "execution_count": 13,
   "id": "d3175a32",
   "metadata": {},
   "outputs": [
    {
     "data": {
      "text/html": [
       "<div>\n",
       "<style scoped>\n",
       "    .dataframe tbody tr th:only-of-type {\n",
       "        vertical-align: middle;\n",
       "    }\n",
       "\n",
       "    .dataframe tbody tr th {\n",
       "        vertical-align: top;\n",
       "    }\n",
       "\n",
       "    .dataframe thead th {\n",
       "        text-align: right;\n",
       "    }\n",
       "</style>\n",
       "<table border=\"1\" class=\"dataframe\">\n",
       "  <thead>\n",
       "    <tr style=\"text-align: right;\">\n",
       "      <th></th>\n",
       "      <th>GAME_ID</th>\n",
       "      <th>HOME_TEAM_ID</th>\n",
       "      <th>VISITOR_TEAM_ID</th>\n",
       "      <th>SEASON</th>\n",
       "      <th>PTS_home</th>\n",
       "      <th>PTS_away</th>\n",
       "    </tr>\n",
       "  </thead>\n",
       "  <tbody>\n",
       "    <tr>\n",
       "      <th>19088</th>\n",
       "      <td>41700201</td>\n",
       "      <td>1610612761</td>\n",
       "      <td>1610612739</td>\n",
       "      <td>2017</td>\n",
       "      <td>112.0</td>\n",
       "      <td>113.0</td>\n",
       "    </tr>\n",
       "    <tr>\n",
       "      <th>19193</th>\n",
       "      <td>21701180</td>\n",
       "      <td>1610612743</td>\n",
       "      <td>1610612750</td>\n",
       "      <td>2017</td>\n",
       "      <td>100.0</td>\n",
       "      <td>96.0</td>\n",
       "    </tr>\n",
       "    <tr>\n",
       "      <th>19545</th>\n",
       "      <td>21700818</td>\n",
       "      <td>1610612755</td>\n",
       "      <td>1610612740</td>\n",
       "      <td>2017</td>\n",
       "      <td>100.0</td>\n",
       "      <td>82.0</td>\n",
       "    </tr>\n",
       "  </tbody>\n",
       "</table>\n",
       "</div>"
      ],
      "text/plain": [
       "        GAME_ID  HOME_TEAM_ID  VISITOR_TEAM_ID  SEASON  PTS_home  PTS_away\n",
       "19088  41700201    1610612761       1610612739    2017     112.0     113.0\n",
       "19193  21701180    1610612743       1610612750    2017     100.0      96.0\n",
       "19545  21700818    1610612755       1610612740    2017     100.0      82.0"
      ]
     },
     "execution_count": 13,
     "metadata": {},
     "output_type": "execute_result"
    }
   ],
   "source": [
    "game_season_2017.sample(3)"
   ]
  },
  {
   "cell_type": "code",
   "execution_count": 14,
   "id": "c7225d1b",
   "metadata": {},
   "outputs": [],
   "source": [
    "game_season_2017_max_home = max(game_season_2017[\"PTS_home\"])\n",
    "game_season_2017_max_away = max(game_season_2017[\"PTS_away\"])"
   ]
  },
  {
   "cell_type": "code",
   "execution_count": 15,
   "id": "7fdc7107",
   "metadata": {},
   "outputs": [
    {
     "data": {
      "text/plain": [
       "149.0"
      ]
     },
     "execution_count": 15,
     "metadata": {},
     "output_type": "execute_result"
    }
   ],
   "source": [
    "game_season_2017_max_home"
   ]
  },
  {
   "cell_type": "code",
   "execution_count": 16,
   "id": "165e9a76",
   "metadata": {},
   "outputs": [
    {
     "data": {
      "text/plain": [
       "148.0"
      ]
     },
     "execution_count": 16,
     "metadata": {},
     "output_type": "execute_result"
    }
   ],
   "source": [
    "game_season_2017_max_away"
   ]
  },
  {
   "cell_type": "markdown",
   "id": "f6a78a77",
   "metadata": {},
   "source": [
    "a maior pontuação marcada em um jogo foi de 149.0 pontos. Agora vamos descobrir qual time fez essa pontuação"
   ]
  },
  {
   "cell_type": "code",
   "execution_count": 17,
   "id": "c18b8ad6",
   "metadata": {},
   "outputs": [],
   "source": [
    "game_season_2017_team = game_season_2017.loc[game_season_2017[\"PTS_home\"] == 149.0]"
   ]
  },
  {
   "cell_type": "code",
   "execution_count": 18,
   "id": "e9fa61a3",
   "metadata": {},
   "outputs": [
    {
     "data": {
      "text/html": [
       "<div>\n",
       "<style scoped>\n",
       "    .dataframe tbody tr th:only-of-type {\n",
       "        vertical-align: middle;\n",
       "    }\n",
       "\n",
       "    .dataframe tbody tr th {\n",
       "        vertical-align: top;\n",
       "    }\n",
       "\n",
       "    .dataframe thead th {\n",
       "        text-align: right;\n",
       "    }\n",
       "</style>\n",
       "<table border=\"1\" class=\"dataframe\">\n",
       "  <thead>\n",
       "    <tr style=\"text-align: right;\">\n",
       "      <th></th>\n",
       "      <th>GAME_ID</th>\n",
       "      <th>HOME_TEAM_ID</th>\n",
       "      <th>VISITOR_TEAM_ID</th>\n",
       "      <th>SEASON</th>\n",
       "      <th>PTS_home</th>\n",
       "      <th>PTS_away</th>\n",
       "    </tr>\n",
       "  </thead>\n",
       "  <tbody>\n",
       "    <tr>\n",
       "      <th>19316</th>\n",
       "      <td>21701054</td>\n",
       "      <td>1610612748</td>\n",
       "      <td>1610612743</td>\n",
       "      <td>2017</td>\n",
       "      <td>149.0</td>\n",
       "      <td>141.0</td>\n",
       "    </tr>\n",
       "  </tbody>\n",
       "</table>\n",
       "</div>"
      ],
      "text/plain": [
       "        GAME_ID  HOME_TEAM_ID  VISITOR_TEAM_ID  SEASON  PTS_home  PTS_away\n",
       "19316  21701054    1610612748       1610612743    2017     149.0     141.0"
      ]
     },
     "execution_count": 18,
     "metadata": {},
     "output_type": "execute_result"
    }
   ],
   "source": [
    "game_season_2017_team"
   ]
  },
  {
   "cell_type": "code",
   "execution_count": 19,
   "id": "fb0d643b",
   "metadata": {},
   "outputs": [],
   "source": [
    "teams_data = teams[[\"TEAM_ID\", \"ABBREVIATION\", \"NICKNAME\", \"CITY\"]]"
   ]
  },
  {
   "cell_type": "code",
   "execution_count": 20,
   "id": "6db9dcdd",
   "metadata": {},
   "outputs": [],
   "source": [
    "game_season_2017_team = game_season_2017_team.merge(teams_data, left_on=\"HOME_TEAM_ID\", right_on=\"TEAM_ID\", how=\"left\")"
   ]
  },
  {
   "cell_type": "code",
   "execution_count": 21,
   "id": "a149bea9",
   "metadata": {},
   "outputs": [
    {
     "data": {
      "text/html": [
       "<div>\n",
       "<style scoped>\n",
       "    .dataframe tbody tr th:only-of-type {\n",
       "        vertical-align: middle;\n",
       "    }\n",
       "\n",
       "    .dataframe tbody tr th {\n",
       "        vertical-align: top;\n",
       "    }\n",
       "\n",
       "    .dataframe thead th {\n",
       "        text-align: right;\n",
       "    }\n",
       "</style>\n",
       "<table border=\"1\" class=\"dataframe\">\n",
       "  <thead>\n",
       "    <tr style=\"text-align: right;\">\n",
       "      <th></th>\n",
       "      <th>GAME_ID</th>\n",
       "      <th>HOME_TEAM_ID</th>\n",
       "      <th>VISITOR_TEAM_ID</th>\n",
       "      <th>SEASON</th>\n",
       "      <th>PTS_home</th>\n",
       "      <th>PTS_away</th>\n",
       "      <th>TEAM_ID</th>\n",
       "      <th>ABBREVIATION</th>\n",
       "      <th>NICKNAME</th>\n",
       "      <th>CITY</th>\n",
       "    </tr>\n",
       "  </thead>\n",
       "  <tbody>\n",
       "    <tr>\n",
       "      <th>0</th>\n",
       "      <td>21701054</td>\n",
       "      <td>1610612748</td>\n",
       "      <td>1610612743</td>\n",
       "      <td>2017</td>\n",
       "      <td>149.0</td>\n",
       "      <td>141.0</td>\n",
       "      <td>1610612748</td>\n",
       "      <td>MIA</td>\n",
       "      <td>Heat</td>\n",
       "      <td>Miami</td>\n",
       "    </tr>\n",
       "  </tbody>\n",
       "</table>\n",
       "</div>"
      ],
      "text/plain": [
       "    GAME_ID  HOME_TEAM_ID  VISITOR_TEAM_ID  SEASON  PTS_home  PTS_away  \\\n",
       "0  21701054    1610612748       1610612743    2017     149.0     141.0   \n",
       "\n",
       "      TEAM_ID ABBREVIATION NICKNAME   CITY  \n",
       "0  1610612748          MIA     Heat  Miami  "
      ]
     },
     "execution_count": 21,
     "metadata": {},
     "output_type": "execute_result"
    }
   ],
   "source": [
    "game_season_2017_team"
   ]
  },
  {
   "cell_type": "markdown",
   "id": "06ad5128",
   "metadata": {},
   "source": [
    "Agora conseguimos saber que o time \"Miami Heat\" foi o time que marcou o maior placar na temporada 2017.\n",
    "Mas agora, curiosidade, qual o time que mais marcou na temporada? somando todos os jogos"
   ]
  },
  {
   "cell_type": "code",
   "execution_count": 22,
   "id": "77fdf15e",
   "metadata": {},
   "outputs": [],
   "source": [
    "game_season_2017_all_games = game_season_2017.merge(teams_data, left_on=\"HOME_TEAM_ID\", right_on=\"TEAM_ID\", how=\"left\")\n"
   ]
  },
  {
   "cell_type": "code",
   "execution_count": 23,
   "id": "b0ba843f",
   "metadata": {},
   "outputs": [
    {
     "data": {
      "text/html": [
       "<div>\n",
       "<style scoped>\n",
       "    .dataframe tbody tr th:only-of-type {\n",
       "        vertical-align: middle;\n",
       "    }\n",
       "\n",
       "    .dataframe tbody tr th {\n",
       "        vertical-align: top;\n",
       "    }\n",
       "\n",
       "    .dataframe thead th {\n",
       "        text-align: right;\n",
       "    }\n",
       "</style>\n",
       "<table border=\"1\" class=\"dataframe\">\n",
       "  <thead>\n",
       "    <tr style=\"text-align: right;\">\n",
       "      <th></th>\n",
       "      <th>GAME_ID</th>\n",
       "      <th>HOME_TEAM_ID</th>\n",
       "      <th>VISITOR_TEAM_ID</th>\n",
       "      <th>SEASON</th>\n",
       "      <th>PTS_home</th>\n",
       "      <th>PTS_away</th>\n",
       "      <th>TEAM_ID</th>\n",
       "      <th>ABBREVIATION</th>\n",
       "      <th>NICKNAME</th>\n",
       "      <th>CITY</th>\n",
       "    </tr>\n",
       "  </thead>\n",
       "  <tbody>\n",
       "    <tr>\n",
       "      <th>22</th>\n",
       "      <td>41700204</td>\n",
       "      <td>1610612739</td>\n",
       "      <td>1610612761</td>\n",
       "      <td>2017</td>\n",
       "      <td>128.0</td>\n",
       "      <td>93.0</td>\n",
       "      <td>1610612739</td>\n",
       "      <td>CLE</td>\n",
       "      <td>Cavaliers</td>\n",
       "      <td>Cleveland</td>\n",
       "    </tr>\n",
       "  </tbody>\n",
       "</table>\n",
       "</div>"
      ],
      "text/plain": [
       "     GAME_ID  HOME_TEAM_ID  VISITOR_TEAM_ID  SEASON  PTS_home  PTS_away  \\\n",
       "22  41700204    1610612739       1610612761    2017     128.0      93.0   \n",
       "\n",
       "       TEAM_ID ABBREVIATION   NICKNAME       CITY  \n",
       "22  1610612739          CLE  Cavaliers  Cleveland  "
      ]
     },
     "execution_count": 23,
     "metadata": {},
     "output_type": "execute_result"
    }
   ],
   "source": [
    "game_season_2017_all_games.sample()"
   ]
  },
  {
   "cell_type": "code",
   "execution_count": 24,
   "id": "e95e7c4f",
   "metadata": {},
   "outputs": [],
   "source": [
    "game_season_2017_all_games = game_season_2017_all_games.merge(teams_data, left_on=\"VISITOR_TEAM_ID\", right_on=\"TEAM_ID\", how=\"left\", suffixes=(\"_home\", \"_visitors\"))\n"
   ]
  },
  {
   "cell_type": "code",
   "execution_count": 25,
   "id": "241607cf",
   "metadata": {},
   "outputs": [
    {
     "data": {
      "text/html": [
       "<div>\n",
       "<style scoped>\n",
       "    .dataframe tbody tr th:only-of-type {\n",
       "        vertical-align: middle;\n",
       "    }\n",
       "\n",
       "    .dataframe tbody tr th {\n",
       "        vertical-align: top;\n",
       "    }\n",
       "\n",
       "    .dataframe thead th {\n",
       "        text-align: right;\n",
       "    }\n",
       "</style>\n",
       "<table border=\"1\" class=\"dataframe\">\n",
       "  <thead>\n",
       "    <tr style=\"text-align: right;\">\n",
       "      <th></th>\n",
       "      <th>GAME_ID</th>\n",
       "      <th>HOME_TEAM_ID</th>\n",
       "      <th>VISITOR_TEAM_ID</th>\n",
       "      <th>SEASON</th>\n",
       "      <th>PTS_home</th>\n",
       "      <th>PTS_away</th>\n",
       "      <th>TEAM_ID_home</th>\n",
       "      <th>ABBREVIATION_home</th>\n",
       "      <th>NICKNAME_home</th>\n",
       "      <th>CITY_home</th>\n",
       "      <th>TEAM_ID_visitors</th>\n",
       "      <th>ABBREVIATION_visitors</th>\n",
       "      <th>NICKNAME_visitors</th>\n",
       "      <th>CITY_visitors</th>\n",
       "    </tr>\n",
       "  </thead>\n",
       "  <tbody>\n",
       "    <tr>\n",
       "      <th>1206</th>\n",
       "      <td>21700115</td>\n",
       "      <td>1610612762</td>\n",
       "      <td>1610612757</td>\n",
       "      <td>2017</td>\n",
       "      <td>112.0</td>\n",
       "      <td>103.0</td>\n",
       "      <td>1610612762</td>\n",
       "      <td>UTA</td>\n",
       "      <td>Jazz</td>\n",
       "      <td>Utah</td>\n",
       "      <td>1610612757</td>\n",
       "      <td>POR</td>\n",
       "      <td>Trail Blazers</td>\n",
       "      <td>Portland</td>\n",
       "    </tr>\n",
       "    <tr>\n",
       "      <th>59</th>\n",
       "      <td>41700173</td>\n",
       "      <td>1610612762</td>\n",
       "      <td>1610612760</td>\n",
       "      <td>2017</td>\n",
       "      <td>115.0</td>\n",
       "      <td>102.0</td>\n",
       "      <td>1610612762</td>\n",
       "      <td>UTA</td>\n",
       "      <td>Jazz</td>\n",
       "      <td>Utah</td>\n",
       "      <td>1610612760</td>\n",
       "      <td>OKC</td>\n",
       "      <td>Thunder</td>\n",
       "      <td>Oklahoma City</td>\n",
       "    </tr>\n",
       "    <tr>\n",
       "      <th>895</th>\n",
       "      <td>21700413</td>\n",
       "      <td>1610612737</td>\n",
       "      <td>1610612765</td>\n",
       "      <td>2017</td>\n",
       "      <td>91.0</td>\n",
       "      <td>105.0</td>\n",
       "      <td>1610612737</td>\n",
       "      <td>ATL</td>\n",
       "      <td>Hawks</td>\n",
       "      <td>Atlanta</td>\n",
       "      <td>1610612765</td>\n",
       "      <td>DET</td>\n",
       "      <td>Pistons</td>\n",
       "      <td>Detroit</td>\n",
       "    </tr>\n",
       "  </tbody>\n",
       "</table>\n",
       "</div>"
      ],
      "text/plain": [
       "       GAME_ID  HOME_TEAM_ID  VISITOR_TEAM_ID  SEASON  PTS_home  PTS_away  \\\n",
       "1206  21700115    1610612762       1610612757    2017     112.0     103.0   \n",
       "59    41700173    1610612762       1610612760    2017     115.0     102.0   \n",
       "895   21700413    1610612737       1610612765    2017      91.0     105.0   \n",
       "\n",
       "      TEAM_ID_home ABBREVIATION_home NICKNAME_home CITY_home  \\\n",
       "1206    1610612762               UTA          Jazz      Utah   \n",
       "59      1610612762               UTA          Jazz      Utah   \n",
       "895     1610612737               ATL         Hawks   Atlanta   \n",
       "\n",
       "      TEAM_ID_visitors ABBREVIATION_visitors NICKNAME_visitors  CITY_visitors  \n",
       "1206        1610612757                   POR     Trail Blazers       Portland  \n",
       "59          1610612760                   OKC           Thunder  Oklahoma City  \n",
       "895         1610612765                   DET           Pistons        Detroit  "
      ]
     },
     "execution_count": 25,
     "metadata": {},
     "output_type": "execute_result"
    }
   ],
   "source": [
    "game_season_2017_all_games.sample(3)"
   ]
  },
  {
   "cell_type": "code",
   "execution_count": 33,
   "id": "1d8346cd",
   "metadata": {},
   "outputs": [
    {
     "data": {
      "text/html": [
       "<div>\n",
       "<style scoped>\n",
       "    .dataframe tbody tr th:only-of-type {\n",
       "        vertical-align: middle;\n",
       "    }\n",
       "\n",
       "    .dataframe tbody tr th {\n",
       "        vertical-align: top;\n",
       "    }\n",
       "\n",
       "    .dataframe thead th {\n",
       "        text-align: right;\n",
       "    }\n",
       "</style>\n",
       "<table border=\"1\" class=\"dataframe\">\n",
       "  <thead>\n",
       "    <tr style=\"text-align: right;\">\n",
       "      <th></th>\n",
       "      <th>TEAM_ID</th>\n",
       "      <th>PTS</th>\n",
       "    </tr>\n",
       "  </thead>\n",
       "  <tbody>\n",
       "    <tr>\n",
       "      <th>2</th>\n",
       "      <td>1610612739</td>\n",
       "      <td>5998.0</td>\n",
       "    </tr>\n",
       "  </tbody>\n",
       "</table>\n",
       "</div>"
      ],
      "text/plain": [
       "      TEAM_ID     PTS\n",
       "2  1610612739  5998.0"
      ]
     },
     "execution_count": 33,
     "metadata": {},
     "output_type": "execute_result"
    }
   ],
   "source": [
    "home_group = game_season_2017_all_games.groupby(\"TEAM_ID_home\", as_index=False).agg({\"PTS_home\": \"sum\"})\n",
    "home_group = home_group.rename(columns={\"PTS_home\": \"PTS\", \"TEAM_ID_home\": \"TEAM_ID\"})\n",
    "home_group.sample()"
   ]
  },
  {
   "cell_type": "code",
   "execution_count": 34,
   "id": "1efd486b",
   "metadata": {},
   "outputs": [
    {
     "data": {
      "text/html": [
       "<div>\n",
       "<style scoped>\n",
       "    .dataframe tbody tr th:only-of-type {\n",
       "        vertical-align: middle;\n",
       "    }\n",
       "\n",
       "    .dataframe tbody tr th {\n",
       "        vertical-align: top;\n",
       "    }\n",
       "\n",
       "    .dataframe thead th {\n",
       "        text-align: right;\n",
       "    }\n",
       "</style>\n",
       "<table border=\"1\" class=\"dataframe\">\n",
       "  <thead>\n",
       "    <tr style=\"text-align: right;\">\n",
       "      <th></th>\n",
       "      <th>TEAM_ID</th>\n",
       "      <th>PTS</th>\n",
       "    </tr>\n",
       "  </thead>\n",
       "  <tbody>\n",
       "    <tr>\n",
       "      <th>10</th>\n",
       "      <td>1610612747</td>\n",
       "      <td>4593.0</td>\n",
       "    </tr>\n",
       "  </tbody>\n",
       "</table>\n",
       "</div>"
      ],
      "text/plain": [
       "       TEAM_ID     PTS\n",
       "10  1610612747  4593.0"
      ]
     },
     "execution_count": 34,
     "metadata": {},
     "output_type": "execute_result"
    }
   ],
   "source": [
    "visitors_group = game_season_2017_all_games.groupby(\"TEAM_ID_visitors\", as_index=False).agg({\"PTS_away\": \"sum\"})\n",
    "visitors_group = visitors_group.rename(columns={\"PTS_away\": \"PTS\", \"TEAM_ID_visitors\": \"TEAM_ID\"})\n",
    "visitors_group.sample()"
   ]
  },
  {
   "cell_type": "code",
   "execution_count": 36,
   "id": "6839365e",
   "metadata": {},
   "outputs": [
    {
     "data": {
      "text/html": [
       "<div>\n",
       "<style scoped>\n",
       "    .dataframe tbody tr th:only-of-type {\n",
       "        vertical-align: middle;\n",
       "    }\n",
       "\n",
       "    .dataframe tbody tr th {\n",
       "        vertical-align: top;\n",
       "    }\n",
       "\n",
       "    .dataframe thead th {\n",
       "        text-align: right;\n",
       "    }\n",
       "</style>\n",
       "<table border=\"1\" class=\"dataframe\">\n",
       "  <thead>\n",
       "    <tr style=\"text-align: right;\">\n",
       "      <th></th>\n",
       "      <th>TEAM_ID</th>\n",
       "      <th>PTS</th>\n",
       "    </tr>\n",
       "  </thead>\n",
       "  <tbody>\n",
       "    <tr>\n",
       "      <th>2</th>\n",
       "      <td>1610612739</td>\n",
       "      <td>5998.0</td>\n",
       "    </tr>\n",
       "  </tbody>\n",
       "</table>\n",
       "</div>"
      ],
      "text/plain": [
       "      TEAM_ID     PTS\n",
       "2  1610612739  5998.0"
      ]
     },
     "execution_count": 36,
     "metadata": {},
     "output_type": "execute_result"
    }
   ],
   "source": [
    "team_point = pd.concat([home_group, visitors_group])\n",
    "team_point.sample()"
   ]
  },
  {
   "cell_type": "code",
   "execution_count": 38,
   "id": "b599c210",
   "metadata": {},
   "outputs": [],
   "source": [
    "team_point = team_point.groupby(\"TEAM_ID\", as_index=False).agg({\"PTS\": \"sum\"})"
   ]
  },
  {
   "cell_type": "code",
   "execution_count": 40,
   "id": "97ca6f23",
   "metadata": {},
   "outputs": [
    {
     "data": {
      "text/html": [
       "<div>\n",
       "<style scoped>\n",
       "    .dataframe tbody tr th:only-of-type {\n",
       "        vertical-align: middle;\n",
       "    }\n",
       "\n",
       "    .dataframe tbody tr th {\n",
       "        vertical-align: top;\n",
       "    }\n",
       "\n",
       "    .dataframe thead th {\n",
       "        text-align: right;\n",
       "    }\n",
       "</style>\n",
       "<table border=\"1\" class=\"dataframe\">\n",
       "  <thead>\n",
       "    <tr style=\"text-align: right;\">\n",
       "      <th></th>\n",
       "      <th>TEAM_ID</th>\n",
       "      <th>PTS</th>\n",
       "    </tr>\n",
       "  </thead>\n",
       "  <tbody>\n",
       "    <tr>\n",
       "      <th>2</th>\n",
       "      <td>1610612739</td>\n",
       "      <td>11812.0</td>\n",
       "    </tr>\n",
       "  </tbody>\n",
       "</table>\n",
       "</div>"
      ],
      "text/plain": [
       "      TEAM_ID      PTS\n",
       "2  1610612739  11812.0"
      ]
     },
     "execution_count": 40,
     "metadata": {},
     "output_type": "execute_result"
    }
   ],
   "source": [
    "team_point.sample()"
   ]
  },
  {
   "cell_type": "code",
   "execution_count": 41,
   "id": "cb2f2455",
   "metadata": {},
   "outputs": [],
   "source": [
    "max_point = max(team_point[\"PTS\"])"
   ]
  },
  {
   "cell_type": "code",
   "execution_count": 42,
   "id": "ea2320c6",
   "metadata": {},
   "outputs": [
    {
     "data": {
      "text/plain": [
       "12079.0"
      ]
     },
     "execution_count": 42,
     "metadata": {},
     "output_type": "execute_result"
    }
   ],
   "source": [
    "max_point"
   ]
  },
  {
   "cell_type": "code",
   "execution_count": 44,
   "id": "43eaf666",
   "metadata": {},
   "outputs": [
    {
     "data": {
      "text/html": [
       "<div>\n",
       "<style scoped>\n",
       "    .dataframe tbody tr th:only-of-type {\n",
       "        vertical-align: middle;\n",
       "    }\n",
       "\n",
       "    .dataframe tbody tr th {\n",
       "        vertical-align: top;\n",
       "    }\n",
       "\n",
       "    .dataframe thead th {\n",
       "        text-align: right;\n",
       "    }\n",
       "</style>\n",
       "<table border=\"1\" class=\"dataframe\">\n",
       "  <thead>\n",
       "    <tr style=\"text-align: right;\">\n",
       "      <th></th>\n",
       "      <th>TEAM_ID</th>\n",
       "      <th>PTS</th>\n",
       "    </tr>\n",
       "  </thead>\n",
       "  <tbody>\n",
       "    <tr>\n",
       "      <th>7</th>\n",
       "      <td>1610612744</td>\n",
       "      <td>12079.0</td>\n",
       "    </tr>\n",
       "  </tbody>\n",
       "</table>\n",
       "</div>"
      ],
      "text/plain": [
       "      TEAM_ID      PTS\n",
       "7  1610612744  12079.0"
      ]
     },
     "execution_count": 44,
     "metadata": {},
     "output_type": "execute_result"
    }
   ],
   "source": [
    "team_point_max = team_point.loc[team_point[\"PTS\"] == 12079.0]\n",
    "team_point_max"
   ]
  },
  {
   "cell_type": "code",
   "execution_count": 45,
   "id": "3905a2d5",
   "metadata": {},
   "outputs": [],
   "source": [
    "team_point_max = team_point_max.merge(teams_data, on=\"TEAM_ID\", how=\"left\")"
   ]
  },
  {
   "cell_type": "code",
   "execution_count": 46,
   "id": "4bbe5993",
   "metadata": {},
   "outputs": [
    {
     "data": {
      "text/html": [
       "<div>\n",
       "<style scoped>\n",
       "    .dataframe tbody tr th:only-of-type {\n",
       "        vertical-align: middle;\n",
       "    }\n",
       "\n",
       "    .dataframe tbody tr th {\n",
       "        vertical-align: top;\n",
       "    }\n",
       "\n",
       "    .dataframe thead th {\n",
       "        text-align: right;\n",
       "    }\n",
       "</style>\n",
       "<table border=\"1\" class=\"dataframe\">\n",
       "  <thead>\n",
       "    <tr style=\"text-align: right;\">\n",
       "      <th></th>\n",
       "      <th>TEAM_ID</th>\n",
       "      <th>PTS</th>\n",
       "      <th>ABBREVIATION</th>\n",
       "      <th>NICKNAME</th>\n",
       "      <th>CITY</th>\n",
       "    </tr>\n",
       "  </thead>\n",
       "  <tbody>\n",
       "    <tr>\n",
       "      <th>0</th>\n",
       "      <td>1610612744</td>\n",
       "      <td>12079.0</td>\n",
       "      <td>GSW</td>\n",
       "      <td>Warriors</td>\n",
       "      <td>Golden State</td>\n",
       "    </tr>\n",
       "  </tbody>\n",
       "</table>\n",
       "</div>"
      ],
      "text/plain": [
       "      TEAM_ID      PTS ABBREVIATION  NICKNAME          CITY\n",
       "0  1610612744  12079.0          GSW  Warriors  Golden State"
      ]
     },
     "execution_count": 46,
     "metadata": {},
     "output_type": "execute_result"
    }
   ],
   "source": [
    "team_point_max"
   ]
  },
  {
   "cell_type": "markdown",
   "id": "861dfd3a",
   "metadata": {},
   "source": [
    "Com isso podemos concluir que o time dos Golden State Warrior foi o time com maior some de pontos em toda a temporada de 2017"
   ]
  },
  {
   "cell_type": "code",
   "execution_count": 47,
   "id": "0889bab5",
   "metadata": {},
   "outputs": [
    {
     "name": "stdout",
     "output_type": "stream",
     "text": [
      "<class 'pandas.core.frame.DataFrame'>\n",
      "Int64Index: 30 entries, 0 to 29\n",
      "Data columns (total 2 columns):\n",
      " #   Column   Non-Null Count  Dtype  \n",
      "---  ------   --------------  -----  \n",
      " 0   TEAM_ID  30 non-null     int64  \n",
      " 1   PTS      30 non-null     float64\n",
      "dtypes: float64(1), int64(1)\n",
      "memory usage: 720.0 bytes\n"
     ]
    }
   ],
   "source": [
    "team_point.info()"
   ]
  },
  {
   "cell_type": "code",
   "execution_count": 48,
   "id": "ba535b5d",
   "metadata": {},
   "outputs": [
    {
     "name": "stdout",
     "output_type": "stream",
     "text": [
      "<class 'pandas.core.frame.DataFrame'>\n",
      "RangeIndex: 30 entries, 0 to 29\n",
      "Data columns (total 14 columns):\n",
      " #   Column              Non-Null Count  Dtype  \n",
      "---  ------              --------------  -----  \n",
      " 0   LEAGUE_ID           30 non-null     int64  \n",
      " 1   TEAM_ID             30 non-null     int64  \n",
      " 2   MIN_YEAR            30 non-null     int64  \n",
      " 3   MAX_YEAR            30 non-null     int64  \n",
      " 4   ABBREVIATION        30 non-null     object \n",
      " 5   NICKNAME            30 non-null     object \n",
      " 6   YEARFOUNDED         30 non-null     int64  \n",
      " 7   CITY                30 non-null     object \n",
      " 8   ARENA               30 non-null     object \n",
      " 9   ARENACAPACITY       26 non-null     float64\n",
      " 10  OWNER               30 non-null     object \n",
      " 11  GENERALMANAGER      30 non-null     object \n",
      " 12  HEADCOACH           30 non-null     object \n",
      " 13  DLEAGUEAFFILIATION  30 non-null     object \n",
      "dtypes: float64(1), int64(5), object(8)\n",
      "memory usage: 3.4+ KB\n"
     ]
    }
   ],
   "source": [
    "teams.info()"
   ]
  },
  {
   "cell_type": "code",
   "execution_count": null,
   "id": "06be6c41",
   "metadata": {},
   "outputs": [],
   "source": []
  }
 ],
 "metadata": {
  "kernelspec": {
   "display_name": "Python 3",
   "language": "python",
   "name": "python3"
  },
  "language_info": {
   "codemirror_mode": {
    "name": "ipython",
    "version": 3
   },
   "file_extension": ".py",
   "mimetype": "text/x-python",
   "name": "python",
   "nbconvert_exporter": "python",
   "pygments_lexer": "ipython3",
   "version": "3.8.0"
  }
 },
 "nbformat": 4,
 "nbformat_minor": 5
}
