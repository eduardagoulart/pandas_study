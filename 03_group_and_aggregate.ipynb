{
  "nbformat": 4,
  "nbformat_minor": 0,
  "metadata": {
    "colab": {
      "name": "03_group_and_aggregate.ipynb",
      "provenance": [],
      "authorship_tag": "ABX9TyPNk2YvUKuZSnWYsCDEh4eF",
      "include_colab_link": true
    },
    "kernelspec": {
      "name": "python3",
      "display_name": "Python 3"
    }
  },
  "cells": [
    {
      "cell_type": "markdown",
      "metadata": {
        "id": "view-in-github",
        "colab_type": "text"
      },
      "source": [
        "<a href=\"https://colab.research.google.com/github/eduardagoulart/pandas_study/blob/master/03_group_and_aggregate.ipynb\" target=\"_parent\"><img src=\"https://colab.research.google.com/assets/colab-badge.svg\" alt=\"Open In Colab\"/></a>"
      ]
    },
    {
      "cell_type": "code",
      "metadata": {
        "id": "l8w4AheE8Yi2",
        "colab_type": "code",
        "colab": {}
      },
      "source": [
        "import pandas as pd"
      ],
      "execution_count": 0,
      "outputs": []
    },
    {
      "cell_type": "code",
      "metadata": {
        "id": "-oiGA8AeQ_1b",
        "colab_type": "code",
        "colab": {}
      },
      "source": [
        "df = pd.read_csv(\"/content/sample_data/vgsales.csv\")"
      ],
      "execution_count": 0,
      "outputs": []
    },
    {
      "cell_type": "code",
      "metadata": {
        "id": "2LyVOE8PRHTS",
        "colab_type": "code",
        "colab": {
          "base_uri": "https://localhost:8080/",
          "height": 204
        },
        "outputId": "c71ee990-c5c9-4493-a557-f26cf0591813"
      },
      "source": [
        "df.head()"
      ],
      "execution_count": 7,
      "outputs": [
        {
          "output_type": "execute_result",
          "data": {
            "text/html": [
              "<div>\n",
              "<style scoped>\n",
              "    .dataframe tbody tr th:only-of-type {\n",
              "        vertical-align: middle;\n",
              "    }\n",
              "\n",
              "    .dataframe tbody tr th {\n",
              "        vertical-align: top;\n",
              "    }\n",
              "\n",
              "    .dataframe thead th {\n",
              "        text-align: right;\n",
              "    }\n",
              "</style>\n",
              "<table border=\"1\" class=\"dataframe\">\n",
              "  <thead>\n",
              "    <tr style=\"text-align: right;\">\n",
              "      <th></th>\n",
              "      <th>Rank</th>\n",
              "      <th>Name</th>\n",
              "      <th>Platform</th>\n",
              "      <th>Year</th>\n",
              "      <th>Genre</th>\n",
              "      <th>Publisher</th>\n",
              "      <th>NA_Sales</th>\n",
              "      <th>EU_Sales</th>\n",
              "      <th>JP_Sales</th>\n",
              "      <th>Other_Sales</th>\n",
              "      <th>Global_Sales</th>\n",
              "    </tr>\n",
              "  </thead>\n",
              "  <tbody>\n",
              "    <tr>\n",
              "      <th>0</th>\n",
              "      <td>1</td>\n",
              "      <td>Wii Sports</td>\n",
              "      <td>Wii</td>\n",
              "      <td>2006.0</td>\n",
              "      <td>Sports</td>\n",
              "      <td>Nintendo</td>\n",
              "      <td>41.49</td>\n",
              "      <td>29.02</td>\n",
              "      <td>3.77</td>\n",
              "      <td>8.46</td>\n",
              "      <td>82.74</td>\n",
              "    </tr>\n",
              "    <tr>\n",
              "      <th>1</th>\n",
              "      <td>2</td>\n",
              "      <td>Super Mario Bros.</td>\n",
              "      <td>NES</td>\n",
              "      <td>1985.0</td>\n",
              "      <td>Platform</td>\n",
              "      <td>Nintendo</td>\n",
              "      <td>29.08</td>\n",
              "      <td>3.58</td>\n",
              "      <td>6.81</td>\n",
              "      <td>0.77</td>\n",
              "      <td>40.24</td>\n",
              "    </tr>\n",
              "    <tr>\n",
              "      <th>2</th>\n",
              "      <td>3</td>\n",
              "      <td>Mario Kart Wii</td>\n",
              "      <td>Wii</td>\n",
              "      <td>2008.0</td>\n",
              "      <td>Racing</td>\n",
              "      <td>Nintendo</td>\n",
              "      <td>15.85</td>\n",
              "      <td>12.88</td>\n",
              "      <td>3.79</td>\n",
              "      <td>3.31</td>\n",
              "      <td>35.82</td>\n",
              "    </tr>\n",
              "    <tr>\n",
              "      <th>3</th>\n",
              "      <td>4</td>\n",
              "      <td>Wii Sports Resort</td>\n",
              "      <td>Wii</td>\n",
              "      <td>2009.0</td>\n",
              "      <td>Sports</td>\n",
              "      <td>Nintendo</td>\n",
              "      <td>15.75</td>\n",
              "      <td>11.01</td>\n",
              "      <td>3.28</td>\n",
              "      <td>2.96</td>\n",
              "      <td>33.00</td>\n",
              "    </tr>\n",
              "    <tr>\n",
              "      <th>4</th>\n",
              "      <td>5</td>\n",
              "      <td>Pokemon Red/Pokemon Blue</td>\n",
              "      <td>GB</td>\n",
              "      <td>1996.0</td>\n",
              "      <td>Role-Playing</td>\n",
              "      <td>Nintendo</td>\n",
              "      <td>11.27</td>\n",
              "      <td>8.89</td>\n",
              "      <td>10.22</td>\n",
              "      <td>1.00</td>\n",
              "      <td>31.37</td>\n",
              "    </tr>\n",
              "  </tbody>\n",
              "</table>\n",
              "</div>"
            ],
            "text/plain": [
              "   Rank                      Name Platform  ...  JP_Sales Other_Sales Global_Sales\n",
              "0     1                Wii Sports      Wii  ...      3.77        8.46        82.74\n",
              "1     2         Super Mario Bros.      NES  ...      6.81        0.77        40.24\n",
              "2     3            Mario Kart Wii      Wii  ...      3.79        3.31        35.82\n",
              "3     4         Wii Sports Resort      Wii  ...      3.28        2.96        33.00\n",
              "4     5  Pokemon Red/Pokemon Blue       GB  ...     10.22        1.00        31.37\n",
              "\n",
              "[5 rows x 11 columns]"
            ]
          },
          "metadata": {
            "tags": []
          },
          "execution_count": 7
        }
      ]
    },
    {
      "cell_type": "markdown",
      "metadata": {
        "id": "FWYIA2ZySYEk",
        "colab_type": "text"
      },
      "source": [
        "To study group and aggregate, we will use a dataset about video game sales.\n",
        "\n",
        "We can see how many video games were sold in each region of the world by genre.\n"
      ]
    },
    {
      "cell_type": "code",
      "metadata": {
        "id": "r9KF8LYBTsV-",
        "colab_type": "code",
        "colab": {
          "base_uri": "https://localhost:8080/",
          "height": 255
        },
        "outputId": "9f86dc53-53f7-4035-e77f-ca69792cc7d9"
      },
      "source": [
        "df.groupby(\"Genre\")[\"NA_Sales\"].sum()"
      ],
      "execution_count": 8,
      "outputs": [
        {
          "output_type": "execute_result",
          "data": {
            "text/plain": [
              "Genre\n",
              "Action          877.83\n",
              "Adventure       105.80\n",
              "Fighting        223.59\n",
              "Misc            410.24\n",
              "Platform        447.05\n",
              "Puzzle          123.78\n",
              "Racing          359.42\n",
              "Role-Playing    327.28\n",
              "Shooter         582.60\n",
              "Simulation      183.31\n",
              "Sports          683.35\n",
              "Strategy         68.70\n",
              "Name: NA_Sales, dtype: float64"
            ]
          },
          "metadata": {
            "tags": []
          },
          "execution_count": 8
        }
      ]
    },
    {
      "cell_type": "code",
      "metadata": {
        "id": "XE2-80AdVym-",
        "colab_type": "code",
        "colab": {
          "base_uri": "https://localhost:8080/",
          "height": 450
        },
        "outputId": "a3487738-1dcb-4052-9af5-c44b65bded30"
      },
      "source": [
        "# we can group by multiple values and columns\n",
        "groupbed_df = df.groupby([\"Platform\", \"Publisher\"])[\n",
        "                                  [\"NA_Sales\", \"EU_Sales\", \"JP_Sales\", \n",
        "                                   \"Global_Sales\"]].sum()\n",
        "groupbed_df"
      ],
      "execution_count": 15,
      "outputs": [
        {
          "output_type": "execute_result",
          "data": {
            "text/html": [
              "<div>\n",
              "<style scoped>\n",
              "    .dataframe tbody tr th:only-of-type {\n",
              "        vertical-align: middle;\n",
              "    }\n",
              "\n",
              "    .dataframe tbody tr th {\n",
              "        vertical-align: top;\n",
              "    }\n",
              "\n",
              "    .dataframe thead th {\n",
              "        text-align: right;\n",
              "    }\n",
              "</style>\n",
              "<table border=\"1\" class=\"dataframe\">\n",
              "  <thead>\n",
              "    <tr style=\"text-align: right;\">\n",
              "      <th></th>\n",
              "      <th></th>\n",
              "      <th>NA_Sales</th>\n",
              "      <th>EU_Sales</th>\n",
              "      <th>JP_Sales</th>\n",
              "      <th>Global_Sales</th>\n",
              "    </tr>\n",
              "    <tr>\n",
              "      <th>Platform</th>\n",
              "      <th>Publisher</th>\n",
              "      <th></th>\n",
              "      <th></th>\n",
              "      <th></th>\n",
              "      <th></th>\n",
              "    </tr>\n",
              "  </thead>\n",
              "  <tbody>\n",
              "    <tr>\n",
              "      <th rowspan=\"5\" valign=\"top\">2600</th>\n",
              "      <th>20th Century Fox Video Games</th>\n",
              "      <td>1.82</td>\n",
              "      <td>0.10</td>\n",
              "      <td>0.00</td>\n",
              "      <td>1.94</td>\n",
              "    </tr>\n",
              "    <tr>\n",
              "      <th>Activision</th>\n",
              "      <td>18.17</td>\n",
              "      <td>1.08</td>\n",
              "      <td>0.00</td>\n",
              "      <td>19.42</td>\n",
              "    </tr>\n",
              "    <tr>\n",
              "      <th>Answer Software</th>\n",
              "      <td>0.46</td>\n",
              "      <td>0.03</td>\n",
              "      <td>0.00</td>\n",
              "      <td>0.50</td>\n",
              "    </tr>\n",
              "    <tr>\n",
              "      <th>Atari</th>\n",
              "      <td>46.69</td>\n",
              "      <td>2.86</td>\n",
              "      <td>0.00</td>\n",
              "      <td>50.09</td>\n",
              "    </tr>\n",
              "    <tr>\n",
              "      <th>Avalon Interactive</th>\n",
              "      <td>0.15</td>\n",
              "      <td>0.01</td>\n",
              "      <td>0.00</td>\n",
              "      <td>0.17</td>\n",
              "    </tr>\n",
              "    <tr>\n",
              "      <th>...</th>\n",
              "      <th>...</th>\n",
              "      <td>...</td>\n",
              "      <td>...</td>\n",
              "      <td>...</td>\n",
              "      <td>...</td>\n",
              "    </tr>\n",
              "    <tr>\n",
              "      <th rowspan=\"5\" valign=\"top\">XOne</th>\n",
              "      <th>Telltale Games</th>\n",
              "      <td>0.26</td>\n",
              "      <td>0.17</td>\n",
              "      <td>0.00</td>\n",
              "      <td>0.46</td>\n",
              "    </tr>\n",
              "    <tr>\n",
              "      <th>Tru Blu Entertainment</th>\n",
              "      <td>0.00</td>\n",
              "      <td>0.05</td>\n",
              "      <td>0.00</td>\n",
              "      <td>0.05</td>\n",
              "    </tr>\n",
              "    <tr>\n",
              "      <th>Ubisoft</th>\n",
              "      <td>10.50</td>\n",
              "      <td>5.85</td>\n",
              "      <td>0.01</td>\n",
              "      <td>17.91</td>\n",
              "    </tr>\n",
              "    <tr>\n",
              "      <th>Unknown</th>\n",
              "      <td>0.02</td>\n",
              "      <td>0.00</td>\n",
              "      <td>0.00</td>\n",
              "      <td>0.03</td>\n",
              "    </tr>\n",
              "    <tr>\n",
              "      <th>Warner Bros. Interactive Entertainment</th>\n",
              "      <td>5.44</td>\n",
              "      <td>2.95</td>\n",
              "      <td>0.02</td>\n",
              "      <td>9.20</td>\n",
              "    </tr>\n",
              "  </tbody>\n",
              "</table>\n",
              "<p>1801 rows × 4 columns</p>\n",
              "</div>"
            ],
            "text/plain": [
              "                                                 NA_Sales  ...  Global_Sales\n",
              "Platform Publisher                                         ...              \n",
              "2600     20th Century Fox Video Games                1.82  ...          1.94\n",
              "         Activision                                 18.17  ...         19.42\n",
              "         Answer Software                             0.46  ...          0.50\n",
              "         Atari                                      46.69  ...         50.09\n",
              "         Avalon Interactive                          0.15  ...          0.17\n",
              "...                                                   ...  ...           ...\n",
              "XOne     Telltale Games                              0.26  ...          0.46\n",
              "         Tru Blu Entertainment                       0.00  ...          0.05\n",
              "         Ubisoft                                    10.50  ...         17.91\n",
              "         Unknown                                     0.02  ...          0.03\n",
              "         Warner Bros. Interactive Entertainment      5.44  ...          9.20\n",
              "\n",
              "[1801 rows x 4 columns]"
            ]
          },
          "metadata": {
            "tags": []
          },
          "execution_count": 15
        }
      ]
    },
    {
      "cell_type": "markdown",
      "metadata": {
        "id": "pwpbc9-eDF2c",
        "colab_type": "text"
      },
      "source": [
        "We are now separating the data by each platform and the games publisher. After that, we sum all the sales in each place.\n",
        "\n",
        "the Platform and Publisher are no longer at the same level as the other columns, this means we now have two new index that are the keys we used in the groupby"
      ]
    },
    {
      "cell_type": "code",
      "metadata": {
        "id": "zPsLHxF9U2V0",
        "colab_type": "code",
        "colab": {
          "base_uri": "https://localhost:8080/",
          "height": 419
        },
        "outputId": "2d8f0a8a-769b-4614-96ac-8082e06889a1"
      },
      "source": [
        "# to access the keys from groupby as columns, we can reset them\n",
        "groupbed_df.reset_index()"
      ],
      "execution_count": 16,
      "outputs": [
        {
          "output_type": "execute_result",
          "data": {
            "text/html": [
              "<div>\n",
              "<style scoped>\n",
              "    .dataframe tbody tr th:only-of-type {\n",
              "        vertical-align: middle;\n",
              "    }\n",
              "\n",
              "    .dataframe tbody tr th {\n",
              "        vertical-align: top;\n",
              "    }\n",
              "\n",
              "    .dataframe thead th {\n",
              "        text-align: right;\n",
              "    }\n",
              "</style>\n",
              "<table border=\"1\" class=\"dataframe\">\n",
              "  <thead>\n",
              "    <tr style=\"text-align: right;\">\n",
              "      <th></th>\n",
              "      <th>Platform</th>\n",
              "      <th>Publisher</th>\n",
              "      <th>NA_Sales</th>\n",
              "      <th>EU_Sales</th>\n",
              "      <th>JP_Sales</th>\n",
              "      <th>Global_Sales</th>\n",
              "    </tr>\n",
              "  </thead>\n",
              "  <tbody>\n",
              "    <tr>\n",
              "      <th>0</th>\n",
              "      <td>2600</td>\n",
              "      <td>20th Century Fox Video Games</td>\n",
              "      <td>1.82</td>\n",
              "      <td>0.10</td>\n",
              "      <td>0.00</td>\n",
              "      <td>1.94</td>\n",
              "    </tr>\n",
              "    <tr>\n",
              "      <th>1</th>\n",
              "      <td>2600</td>\n",
              "      <td>Activision</td>\n",
              "      <td>18.17</td>\n",
              "      <td>1.08</td>\n",
              "      <td>0.00</td>\n",
              "      <td>19.42</td>\n",
              "    </tr>\n",
              "    <tr>\n",
              "      <th>2</th>\n",
              "      <td>2600</td>\n",
              "      <td>Answer Software</td>\n",
              "      <td>0.46</td>\n",
              "      <td>0.03</td>\n",
              "      <td>0.00</td>\n",
              "      <td>0.50</td>\n",
              "    </tr>\n",
              "    <tr>\n",
              "      <th>3</th>\n",
              "      <td>2600</td>\n",
              "      <td>Atari</td>\n",
              "      <td>46.69</td>\n",
              "      <td>2.86</td>\n",
              "      <td>0.00</td>\n",
              "      <td>50.09</td>\n",
              "    </tr>\n",
              "    <tr>\n",
              "      <th>4</th>\n",
              "      <td>2600</td>\n",
              "      <td>Avalon Interactive</td>\n",
              "      <td>0.15</td>\n",
              "      <td>0.01</td>\n",
              "      <td>0.00</td>\n",
              "      <td>0.17</td>\n",
              "    </tr>\n",
              "    <tr>\n",
              "      <th>...</th>\n",
              "      <td>...</td>\n",
              "      <td>...</td>\n",
              "      <td>...</td>\n",
              "      <td>...</td>\n",
              "      <td>...</td>\n",
              "      <td>...</td>\n",
              "    </tr>\n",
              "    <tr>\n",
              "      <th>1796</th>\n",
              "      <td>XOne</td>\n",
              "      <td>Telltale Games</td>\n",
              "      <td>0.26</td>\n",
              "      <td>0.17</td>\n",
              "      <td>0.00</td>\n",
              "      <td>0.46</td>\n",
              "    </tr>\n",
              "    <tr>\n",
              "      <th>1797</th>\n",
              "      <td>XOne</td>\n",
              "      <td>Tru Blu Entertainment</td>\n",
              "      <td>0.00</td>\n",
              "      <td>0.05</td>\n",
              "      <td>0.00</td>\n",
              "      <td>0.05</td>\n",
              "    </tr>\n",
              "    <tr>\n",
              "      <th>1798</th>\n",
              "      <td>XOne</td>\n",
              "      <td>Ubisoft</td>\n",
              "      <td>10.50</td>\n",
              "      <td>5.85</td>\n",
              "      <td>0.01</td>\n",
              "      <td>17.91</td>\n",
              "    </tr>\n",
              "    <tr>\n",
              "      <th>1799</th>\n",
              "      <td>XOne</td>\n",
              "      <td>Unknown</td>\n",
              "      <td>0.02</td>\n",
              "      <td>0.00</td>\n",
              "      <td>0.00</td>\n",
              "      <td>0.03</td>\n",
              "    </tr>\n",
              "    <tr>\n",
              "      <th>1800</th>\n",
              "      <td>XOne</td>\n",
              "      <td>Warner Bros. Interactive Entertainment</td>\n",
              "      <td>5.44</td>\n",
              "      <td>2.95</td>\n",
              "      <td>0.02</td>\n",
              "      <td>9.20</td>\n",
              "    </tr>\n",
              "  </tbody>\n",
              "</table>\n",
              "<p>1801 rows × 6 columns</p>\n",
              "</div>"
            ],
            "text/plain": [
              "     Platform                               Publisher  ...  JP_Sales  Global_Sales\n",
              "0        2600            20th Century Fox Video Games  ...      0.00          1.94\n",
              "1        2600                              Activision  ...      0.00         19.42\n",
              "2        2600                         Answer Software  ...      0.00          0.50\n",
              "3        2600                                   Atari  ...      0.00         50.09\n",
              "4        2600                      Avalon Interactive  ...      0.00          0.17\n",
              "...       ...                                     ...  ...       ...           ...\n",
              "1796     XOne                          Telltale Games  ...      0.00          0.46\n",
              "1797     XOne                   Tru Blu Entertainment  ...      0.00          0.05\n",
              "1798     XOne                                 Ubisoft  ...      0.01         17.91\n",
              "1799     XOne                                 Unknown  ...      0.00          0.03\n",
              "1800     XOne  Warner Bros. Interactive Entertainment  ...      0.02          9.20\n",
              "\n",
              "[1801 rows x 6 columns]"
            ]
          },
          "metadata": {
            "tags": []
          },
          "execution_count": 16
        }
      ]
    },
    {
      "cell_type": "markdown",
      "metadata": {
        "id": "Qd-Pz-SJEMtx",
        "colab_type": "text"
      },
      "source": [
        "we can count how many genres each platform or publisher has made"
      ]
    },
    {
      "cell_type": "code",
      "metadata": {
        "id": "QDpb73VoVGPZ",
        "colab_type": "code",
        "colab": {
          "base_uri": "https://localhost:8080/",
          "height": 238
        },
        "outputId": "28a64479-4aae-43b2-8c2e-0cc2eb8003e1"
      },
      "source": [
        "# grouping by publisher\n",
        "df.groupby(\"Publisher\")[\"Genre\"].nunique()"
      ],
      "execution_count": 17,
      "outputs": [
        {
          "output_type": "execute_result",
          "data": {
            "text/plain": [
              "Publisher\n",
              "10TACLE Studios                 3\n",
              "1C Company                      3\n",
              "20th Century Fox Video Games    2\n",
              "2D Boy                          1\n",
              "3DO                             9\n",
              "                               ..\n",
              "id Software                     1\n",
              "imageepoch Inc.                 2\n",
              "inXile Entertainment            1\n",
              "mixi, Inc                       1\n",
              "responDESIGN                    1\n",
              "Name: Genre, Length: 578, dtype: int64"
            ]
          },
          "metadata": {
            "tags": []
          },
          "execution_count": 17
        }
      ]
    },
    {
      "cell_type": "markdown",
      "metadata": {
        "id": "Wi3IA1PqE3O_",
        "colab_type": "text"
      },
      "source": [
        "### Basic Plot\n",
        "\n",
        "we can plot simple graphs only using pandas"
      ]
    },
    {
      "cell_type": "code",
      "metadata": {
        "id": "Kj_xJYMeEcdR",
        "colab_type": "code",
        "colab": {
          "base_uri": "https://localhost:8080/",
          "height": 296
        },
        "outputId": "b5b246e9-2d82-4636-8c61-00314906c671"
      },
      "source": [
        "df.groupby(\"Genre\")[\"NA_Sales\"].mean().plot()"
      ],
      "execution_count": 20,
      "outputs": [
        {
          "output_type": "execute_result",
          "data": {
            "text/plain": [
              "<matplotlib.axes._subplots.AxesSubplot at 0x7f366953cda0>"
            ]
          },
          "metadata": {
            "tags": []
          },
          "execution_count": 20
        },
        {
          "output_type": "display_data",
          "data": {
            "image/png": "[encoded data removed]",
            "text/plain": [
              "<Figure size 432x288 with 1 Axes>"
            ]
          },
          "metadata": {
            "tags": []
          }
        }
      ]
    },
    {
      "cell_type": "code",
      "metadata": {
        "id": "s8qcd3izFGeN",
        "colab_type": "code",
        "colab": {}
      },
      "source": [
        ""
      ],
      "execution_count": 0,
      "outputs": []
    }
  ]
}